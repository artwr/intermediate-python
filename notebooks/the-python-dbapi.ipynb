{
 "metadata": {
  "name": ""
 },
 "nbformat": 3,
 "nbformat_minor": 0,
 "worksheets": [
  {
   "cells": [
    {
     "cell_type": "markdown",
     "metadata": {},
     "source": [
      "#### PRE-RELEASE REVIEW: O'Reilly Intermediate Python Video Series\n",
      "#### Topic: The Python DBAPI \n",
      "Source located in `nbsource/the-python-dbapi.ipynb`. Automatically rendered from `UNKNOWN` on 2014-03-14 at 11:26:56.211939.\n",
      "#### AUTOMATICALLY GENERATED TEST NOTEBOOK - CHANGES WILL BE LOST\n",
      "#### To TEST this Notebook<br />1. select Cell | Run All, or step through with Shift/Enter<br />2. Notebook turns pink when testing starts<br />3. It turns white when the it runs to completion.<br />4. Please check the executed notebook for clarity and correctness.<br />Please [raise an issue](https://github.com/holdenweb/intermediate-python/issues) about anything you don't understand - by all means attach a saved copy of the notebook to add explanations or questions. Also please let us know about stuff you want to see covered under any heading in the outline.\n",
      "#### Your comments on the content are also welcome, particularly when [reported as issues](https://github.com/holdenweb/intermediate-python/issues)"
     ]
    },
    {
     "cell_type": "heading",
     "level": 1,
     "metadata": {},
     "source": [
      "<img src=\"files/images/title_graphic.png\" />\n",
      "||| WORKING COPY |||  The Python DBAPI "
     ]
    },
    {
     "cell_type": "markdown",
     "metadata": {},
     "source": [
      "Relational databases use a language called the Structured Query Language (abbreviated as SQL) to define data structures, and store and retrieve information. SQL is different from most computer languages in that it is declarative\u2014you don't tell the database how to produce what you want, you simply describe what you want it to do and the database works out how best to do it. Since the data structures and algorithms are complicated, this is a great boon.\n",
      "\n",
      "Database systems are often built as \"client/server\" systems\u2014your program is a client (maybe one of many) of a server program that runs as a separate process, or maybe even on an entirely separate \"database server\" computer. This is not, however, a requirement and Python includes the `sqlite3` module, which creates and uses databases stored in single disk files on your local disk. This is a very convenient way to start learning about databases."
     ]
    },
    {
     "cell_type": "markdown",
     "metadata": {},
     "source": [
      "To connect to a SQLite database you have to call `sqlite3.connect()` with an argument that is the path to the database (which you will remember is a single file). If the file already exists then it will be used as-is."
     ]
    },
    {
     "cell_type": "code",
     "collapsed": false,
     "input": [
      "import sqlite3\n",
      "conn = sqlite3.connect(\"MyDatbase.sql3\")\n",
      "conn"
     ],
     "language": "python",
     "metadata": {},
     "outputs": [
      {
       "metadata": {},
       "output_type": "pyout",
       "prompt_number": 43,
       "text": [
        "<sqlite3.Connection at 0x10ab6d650>"
       ]
      }
     ],
     "prompt_number": 43
    },
    {
     "cell_type": "markdown",
     "metadata": {},
     "source": [
      "Your aren't intended to learn SQL in this section, even though you need it to use relational databases at all. We'll present the statements you need to use and explain what each one does as we come to them. Essentially the database maintains dat in tables, which you can think of as made up of rows and columns (the actual structure of the data is well-hidden from database users). There are many excellent books on SQL if you want to take your database interests further, include the [_SQL Cookbook_](http://shop.oreilly.com/product/9780596009762.do)\n",
      "\n",
      "The first time you run this notebook you will probably be creating the database. Subsequent runs, however, will connect to the already-created database and so there may well be database objects (principally tables) already existing. The point of a database is to persist data, after all!\n",
      "\n",
      "This does mean, however, that any code you write that creates tables shold be prepared to find them in the database already. Fortunately SQLite allows us to do this quite easily with a DROP IF EXISTS statement that allows you to delete an existing table before re-creating it."
     ]
    },
    {
     "cell_type": "markdown",
     "metadata": {},
     "source": [
      "The first thing you need to do to execute code against the database is to create what's called a _cursor_, which uses the connection to send SQL to the database and read the results. The connection has a method you can use for that."
     ]
    },
    {
     "cell_type": "code",
     "collapsed": false,
     "input": [
      "curs = conn.cursor()\n",
      "curs"
     ],
     "language": "python",
     "metadata": {},
     "outputs": [
      {
       "metadata": {},
       "output_type": "pyout",
       "prompt_number": 44,
       "text": [
        "<sqlite3.Cursor at 0x10ab68c70>"
       ]
      }
     ],
     "prompt_number": 44
    },
    {
     "cell_type": "markdown",
     "metadata": {},
     "source": [
      "Now you have a cursor we can use it to access the database. You need to clear the way for your eotk by ensuring that any already existing `publisher` table is removed. "
     ]
    },
    {
     "cell_type": "code",
     "collapsed": false,
     "input": [
      "curs.execute(\"DROP TABLE IF EXISTS publisher\")"
     ],
     "language": "python",
     "metadata": {},
     "outputs": [
      {
       "metadata": {},
       "output_type": "pyout",
       "prompt_number": 45,
       "text": [
        "<sqlite3.Cursor at 0x10ab68c70>"
       ]
      }
     ],
     "prompt_number": 45
    },
    {
     "cell_type": "markdown",
     "metadata": {},
     "source": [
      "It's conventional to type SQL keywords in upper case, but lower case is equally acceptable. Layout for SQL statements is very flexible, allowing arbitrary whitespace between tokens. This allows you to write them in a way that keeps them comprehensible and doesn't cause huge long lines in your code."
     ]
    },
    {
     "cell_type": "markdown",
     "metadata": {},
     "source": [
      "To represent text in a way that makes it pleasant for the reader you need to use multi-line string literals (three single quotes or three double quotes as the delimiter). By following the opening delimiter with a newline you can create the block of SQL at any convenient indentation level.\n",
      "\n",
      "Creating a table in SQL requires you to define the data type of each of its columns.\n",
      "\n",
      "Notice carefully that this call doesn't return any data (in fact it just returns the cursor, to allow for a technique called method chaining, which we won't get into here). Now we are sure there is no `publisher` table we can create one. This next statement does just that."
     ]
    },
    {
     "cell_type": "code",
     "collapsed": false,
     "input": [
      "curs.execute(\"\"\"CREATE TABLE publisher(\n",
      "                    pubid INT PRIMARY KEY,\n",
      "                    pubname VARCHAR(25),\n",
      "                    puburl VARCHAR(125))\"\"\")"
     ],
     "language": "python",
     "metadata": {},
     "outputs": [
      {
       "metadata": {},
       "output_type": "pyout",
       "prompt_number": 46,
       "text": [
        "<sqlite3.Cursor at 0x10ab68c70>"
       ]
      }
     ],
     "prompt_number": 46
    },
    {
     "cell_type": "markdown",
     "metadata": {},
     "source": [
      "You will note in the `CREATE TABLE` statement that the `pubid` (publisher ID) field is flagged as the _primary key_ of the new table. This tells the database to keep an index of the column (to speed up the most frequent types of access). Most relational systems require primary key values to be unique\u2014in fact this is a fundamental requirement of the relational algebra that underlies all relational database systems."
     ]
    },
    {
     "cell_type": "markdown",
     "metadata": {},
     "source": [
      "Since no exceptions were raised it appears the creation of the `publisher` table succeded.  Now you can create a `book` table to hold the information about what the publishers publish."
     ]
    },
    {
     "cell_type": "markdown",
     "metadata": {},
     "source": [
      "Before doing that, here's a look at the exception traceback caused by ecxecuting that statement a second time, thereby trying to create an already existent database table.\n",
      "\n",
      "    curs.execute(\"\"\"CREATE TABLE publisher(\n",
      "                        pubid INT PRIMARY KEY,\n",
      "                        pubname VARCHAR(25),\n",
      "                        puburl VARCHAR(125))\"\"\")\n",
      "    ---------------------------------------------------------------------------\n",
      "    OperationalError                          Traceback (most recent call last)\n",
      "    <ipython-input-5-f6599eb593b6> in <module>()\n",
      "          2                     pubid INT PRIMARY KEY,\n",
      "          3                     pubname VARCHAR(25),\n",
      "    ----> 4                     puburl VARCHAR(125))\"\"\")\n",
      "    \n",
      "    OperationalError: table publisher already exists\n",
      "    \n",
      "    ERROR: An unexpected error occurred while tokenizing input\n",
      "    The following traceback may be corrupted or invalid\n",
      "    The error message is: ('EOF in multi-line string', (1, 40))    \n",
      "\n",
      "This is what you avoided in the first place by using the `DROP TABLE IF EXISTS` statement."
     ]
    },
    {
     "cell_type": "markdown",
     "metadata": {},
     "source": [
      "The long-format message isn't that terrific: it focuses on what's going on inside SQLite rather than telling the user what has gone wrong in her terms. Fortunately the `sqlite3` driver routines are more helpful, reminding you that you already created this table."
     ]
    },
    {
     "cell_type": "markdown",
     "metadata": {},
     "source": [
      "Each row of the `book` table will have will have a 10-digit ISBN, a title of up to 60 characters, a publisher number (that refers to a publisher whose data is stored in the `publisher_` table) and a publication year.\n",
      "\n",
      "The _relationship_ between books and publishers is created by the `FOREIGN KEY` clause. This declares that the `bkpubid` column will contain primary key values from the `book` table. Most database systems will enforce what is called _referential integrity_\u2014in other words, it will raise some sort of exception if you try and store a value in the `bkpubid` that is not present in the `publisher.pubid` column. That would give a book a non-existent publisher, which doesn't really make sense."
     ]
    },
    {
     "cell_type": "code",
     "collapsed": false,
     "input": [
      "curs.execute(\"DROP TABLE IF EXISTS book\")\n",
      "curs.execute(\"\"\"\\\n",
      "                CREATE TABLE book (\n",
      "                    bkisbn CHAR(10) PRIMARY KEY,\n",
      "                    bktitle VARCHAR(60),\n",
      "                    bkyear INT,\n",
      "                    bkpubid INT,\n",
      "                    FOREIGN KEY(bkpubid) REFERENCES publisher(pubid))\n",
      "            \"\"\")"
     ],
     "language": "python",
     "metadata": {},
     "outputs": [
      {
       "metadata": {},
       "output_type": "pyout",
       "prompt_number": 47,
       "text": [
        "<sqlite3.Cursor at 0x10ab68c70>"
       ]
      }
     ],
     "prompt_number": 47
    },
    {
     "cell_type": "markdown",
     "metadata": {},
     "source": [
      "Congratulations, you just created a book table!"
     ]
    },
    {
     "cell_type": "markdown",
     "metadata": {},
     "source": [
      "Next we want to consider putting some data in it. Let's suppose that your program contains a list of publishers (indexed by number, the primary key) and a dict of books (indexed by ISBN, the primary key, being non-numeric). No matter how it was created, the data would probably look something like what follows."
     ]
    },
    {
     "cell_type": "code",
     "collapsed": false,
     "input": [
      "publisher_list = (\n",
      "                  (\"Holden Web\", \"http://holdenweb.com\"),               #0\n",
      "                  (\"Apress\", \"http://www.apress.com\"),                  #1\n",
      "                  (\"O'Reilly Media\", \"http://oreilly.com\"),             #2\n",
      "                  (\"Packt Publishing\", \"http://www.packtpub.com\")       #3\n",
      "                  )\n",
      "\n",
      "book_dict = {\n",
      "             \"1565926218\": (\"Python Programming on Win32\", 1999, 2),    # O'Reilly\n",
      "             \"1590597257\": (\"The Definitive Guide to Django\", 2011, 1), # Apress\n",
      "             \"1234567890\": (\"No Book You Ever Heard Of\", 2015, 0),      # Holden Web\n",
      "             \"0569007973\": (\"The Python Cookbook, 2nd Edn.\", 2009, 2),  # O'Reilly\n",
      "             \"7818471947\": (\"Expert Python Programming\", 2012, 3)       # Packt\n",
      "             }"
     ],
     "language": "python",
     "metadata": {},
     "outputs": [],
     "prompt_number": 48
    },
    {
     "cell_type": "markdown",
     "metadata": {},
     "source": [
      "It's relatively easy to take an ISBN and print out the book details, including the publisher."
     ]
    },
    {
     "cell_type": "code",
     "collapsed": false,
     "input": [
      "ISBN = \"1234567890\"\n",
      "book = book_dict[ISBN]\n",
      "publisher = publisher_list[book[2]]\n",
      "print(\"\"\"\\\n",
      "ISBN:           {}\n",
      "Title:          {}\n",
      "Year:           {}\n",
      "Publisher:      {}\n",
      "URL:            {}\"\"\".format(ISBN, book[0], book[1], publisher[0], publisher[1]))"
     ],
     "language": "python",
     "metadata": {},
     "outputs": [
      {
       "output_type": "stream",
       "stream": "stdout",
       "text": [
        "ISBN:           1234567890\n",
        "Title:          No Book You Ever Heard Of\n",
        "Year:           2015\n",
        "Publisher:      Holden Web\n",
        "URL:            http://holdenweb.com\n"
       ]
      }
     ],
     "prompt_number": 49
    },
    {
     "cell_type": "markdown",
     "metadata": {},
     "source": [
      "Since the books reference the publishers we had best load the publisher data into the database first (lest we run foul of any referential integrity restrictions by trying to load a book whose publisher does not yet exist)."
     ]
    },
    {
     "cell_type": "code",
     "collapsed": false,
     "input": [
      "for i, publisher in enumerate(publisher_list):\n",
      "    curs.execute(\"\"\"\n",
      "                INSERT INTO publisher (pubid, pubname, puburl)\n",
      "                VALUES(?, ?, ?)\"\"\",\n",
      "                 (i, publisher[0], publisher[1]))"
     ],
     "language": "python",
     "metadata": {},
     "outputs": [],
     "prompt_number": 50
    },
    {
     "cell_type": "markdown",
     "metadata": {},
     "source": [
      "Here you see `execute()` being called with two arguments. The first is, as always, the SQL statement to be executed. The second argument is a tuple of data values, which are places in one-to-one correspondence with the question marks in the \n",
      "\n",
      "Having inserted the publisher data we should now try to read it back to make sure it's in the database. The next statement just retrieves all columns from all rows of the publisher table. Once you have executed the SQL command you can retrieve the data with the cursor's _fetch_ methods:\n",
      "\n",
      "  * `fetchone()` returns the next element in the result set\n",
      "  * `fetchall)` returns all the rows remaining in the cursor\n",
      "  * `fetchmany(n)` returns the next `n` rows remaining in the cursor\n",
      "\n",
      "As you see below, the data appears to have been correctly inserted."
     ]
    },
    {
     "cell_type": "code",
     "collapsed": false,
     "input": [
      "curs.execute(\"SELECT * FROM publisher\")\n",
      "curs.fetchall()"
     ],
     "language": "python",
     "metadata": {},
     "outputs": [
      {
       "metadata": {},
       "output_type": "pyout",
       "prompt_number": 51,
       "text": [
        "[(0, 'Holden Web', 'http://holdenweb.com'),\n",
        " (1, 'Apress', 'http://www.apress.com'),\n",
        " (2, \"O'Reilly Media\", 'http://oreilly.com'),\n",
        " (3, 'Packt Publishing', 'http://www.packtpub.com')]"
       ]
      }
     ],
     "prompt_number": 51
    },
    {
     "cell_type": "markdown",
     "metadata": {},
     "source": [
      "Next you have to do the same thing for the publishers."
     ]
    },
    {
     "cell_type": "code",
     "collapsed": false,
     "input": [
      "for ISBN, (title, year, pubid) in book_dict.items():\n",
      "    curs.execute(\"\"\"INSERT INTO BOOK\n",
      "                    (bkisbn, bktitle, bkyear, bkpubid)\n",
      "                    VALUES (?, ?, ?, ?)\"\"\",\n",
      "                    (ISBN, title, year, pubid))"
     ],
     "language": "python",
     "metadata": {},
     "outputs": [],
     "prompt_number": 52
    },
    {
     "cell_type": "code",
     "collapsed": false,
     "input": [
      "curs.execute(\"SELECT * FROM book\")\n",
      "curs.fetchall()"
     ],
     "language": "python",
     "metadata": {},
     "outputs": [
      {
       "metadata": {},
       "output_type": "pyout",
       "prompt_number": 53,
       "text": [
        "[('0569007973', 'The Python Cookbook, 2nd Edn.', 2009, 2),\n",
        " ('1234567890', 'No Book You Ever Heard Of', 2015, 0),\n",
        " ('1590597257', 'The Definitive Guide to Django', 2011, 1),\n",
        " ('1565926218', 'Python Programming on Win32', 1999, 2),\n",
        " ('7818471947', 'Expert Python Programming', 2012, 3)]"
       ]
      }
     ],
     "prompt_number": 53
    },
    {
     "cell_type": "markdown",
     "metadata": {},
     "source": [
      "Now, finally, we can use SQL to join the two sets of information together, using s SELECT command with a JOIN clause. This specifies that each time a book row is read the relevent publisher row should be appended to it. You see the publisher number os duplicated because it appears in both tables."
     ]
    },
    {
     "cell_type": "code",
     "collapsed": false,
     "input": [
      "curs.execute(\"\"\"\n",
      "                SELECT *\n",
      "                FROM book JOIN publisher ON pubid=bkpubid\"\"\")\n",
      "curs.fetchall()"
     ],
     "language": "python",
     "metadata": {},
     "outputs": [
      {
       "metadata": {},
       "output_type": "pyout",
       "prompt_number": 54,
       "text": [
        "[('0569007973',\n",
        "  'The Python Cookbook, 2nd Edn.',\n",
        "  2009,\n",
        "  2,\n",
        "  2,\n",
        "  \"O'Reilly Media\",\n",
        "  'http://oreilly.com'),\n",
        " ('1234567890',\n",
        "  'No Book You Ever Heard Of',\n",
        "  2015,\n",
        "  0,\n",
        "  0,\n",
        "  'Holden Web',\n",
        "  'http://holdenweb.com'),\n",
        " ('1590597257',\n",
        "  'The Definitive Guide to Django',\n",
        "  2011,\n",
        "  1,\n",
        "  1,\n",
        "  'Apress',\n",
        "  'http://www.apress.com'),\n",
        " ('1565926218',\n",
        "  'Python Programming on Win32',\n",
        "  1999,\n",
        "  2,\n",
        "  2,\n",
        "  \"O'Reilly Media\",\n",
        "  'http://oreilly.com'),\n",
        " ('7818471947',\n",
        "  'Expert Python Programming',\n",
        "  2012,\n",
        "  3,\n",
        "  3,\n",
        "  'Packt Publishing',\n",
        "  'http://www.packtpub.com')]"
       ]
      }
     ],
     "prompt_number": 54
    },
    {
     "cell_type": "markdown",
     "metadata": {},
     "source": [
      "You can also select only the fields you want, avoiding passing unwanted data from the database. With SQLite id doesn't matter so much, but when you are using a client/server based system it's good practice to limit the fetching of data since it all occupies unnecessary bandwidth."
     ]
    },
    {
     "cell_type": "code",
     "collapsed": false,
     "input": [
      "curs.execute(\"\"\"\n",
      "                SELECT bktitle, bkyear, pubname\n",
      "                FROM book JOIN publisher ON pubid=bkpubid\"\"\")\n",
      "curs.fetchall()"
     ],
     "language": "python",
     "metadata": {},
     "outputs": [
      {
       "metadata": {},
       "output_type": "pyout",
       "prompt_number": 55,
       "text": [
        "[('The Python Cookbook, 2nd Edn.', 2009, \"O'Reilly Media\"),\n",
        " ('No Book You Ever Heard Of', 2015, 'Holden Web'),\n",
        " ('The Definitive Guide to Django', 2011, 'Apress'),\n",
        " ('Python Programming on Win32', 1999, \"O'Reilly Media\"),\n",
        " ('Expert Python Programming', 2012, 'Packt Publishing')]"
       ]
      }
     ],
     "prompt_number": 55
    },
    {
     "cell_type": "markdown",
     "metadata": {},
     "source": [
      "Finally, you have to make sure these changes are made permanent by committing them to the database. Up until this point, only queries using the same connection can see the changes. Once you commit them they are visible to everybody. You do this by calling the connection's `commit()` method.\n",
      "\n",
      "Finally, at the end of the program it's good hygiene to call the connection's `close()` method to shut down the database connection."
     ]
    },
    {
     "cell_type": "code",
     "collapsed": false,
     "input": [
      "conn.commit()"
     ],
     "language": "python",
     "metadata": {},
     "outputs": [],
     "prompt_number": 56
    },
    {
     "cell_type": "code",
     "collapsed": false,
     "input": [
      "conn.close()"
     ],
     "language": "python",
     "metadata": {},
     "outputs": [],
     "prompt_number": 57
    },
    {
     "cell_type": "markdown",
     "metadata": {},
     "source": [
      "And that's how you access relational databases in Python! In another lesson we will discuss alternative approaches based on a technique called _object relational mapping_, in which you get far less involved in knowing the structure of the database, and do not need to use SQL to retrieve dta. Ultimately, though"
     ]
    },
    {
     "cell_type": "code",
     "collapsed": false,
     "input": [
      "conn = sqlite3.connect(\"MyDatbase.sql3\")\n",
      "conn"
     ],
     "language": "python",
     "metadata": {},
     "outputs": []
    },
    {
     "cell_type": "code",
     "collapsed": false,
     "input": [
      "curs = conn.cursor()\n",
      "curs"
     ],
     "language": "python",
     "metadata": {},
     "outputs": []
    },
    {
     "cell_type": "code",
     "collapsed": false,
     "input": [
      "curs.execute(\"SELECT * FROM book\")\n",
      "curs.fetchall()"
     ],
     "language": "python",
     "metadata": {},
     "outputs": []
    },
    {
     "cell_type": "code",
     "collapsed": false,
     "input": [
      "conn.close()\n"
     ],
     "language": "python",
     "metadata": {},
     "outputs": []
    }
   ],
   "metadata": {}
  }
 ]
}
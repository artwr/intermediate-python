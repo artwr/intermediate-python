{
 "metadata": {
  "name": ""
 },
 "nbformat": 3,
 "nbformat_minor": 0,
 "worksheets": [
  {
   "cells": [
    {
     "cell_type": "markdown",
     "metadata": {},
     "source": [
      "#### PRE-RELEASE REVIEW: O'Reilly Intermediate Python Video Series\n",
      "#### Topic: Reading and Writing Files \n",
      "Source located in `nbsource/reading-and-writing-files.ipynb`. Automatically rendered from `UNKNOWN` on 2014-03-21 at 10:21:36.524494.\n",
      "#### AUTOMATICALLY GENERATED TEST NOTEBOOK - CHANGES WILL BE LOST\n",
      "#### To TEST this Notebook<br />1. select Cell | Run All, or step through with Shift/Enter<br />2. Notebook turns pink when testing starts<br />3. It turns white when the it runs to completion.<br />4. Please check the executed notebook for clarity and correctness.<br />Please [raise an issue](https://github.com/holdenweb/intermediate-python/issues) about anything you don't understand - by all means attach a saved copy of the notebook to add explanations or questions. Also please let us know about stuff you want to see covered under any heading in the outline.\n",
      "#### Your comments on the content are also welcome, particularly when [reported as issues](https://github.com/holdenweb/intermediate-python/issues)"
     ]
    },
    {
     "cell_type": "markdown",
     "metadata": {},
     "source": [
      "This document was created on 2014-03-11 at 20:37:52.960796."
     ]
    },
    {
     "cell_type": "code",
     "collapsed": false,
     "input": [
      "%%file star-spangled.txt\n",
      "These\n",
      "are\n",
      "not\n",
      "the\n",
      "words\n",
      "of\n",
      "the\n",
      "star\n",
      "spangled\n",
      "banner"
     ],
     "language": "python",
     "metadata": {},
     "outputs": [
      {
       "output_type": "stream",
       "stream": "stdout",
       "text": [
        "Overwriting star-spangled.txt\n"
       ]
      }
     ],
     "prompt_number": 408
    },
    {
     "cell_type": "code",
     "collapsed": false,
     "input": [
      "f = open(\"star-spangled.txt\", \"r\")\n",
      "import sys\n",
      "sys.stdout.write(f.read())"
     ],
     "language": "python",
     "metadata": {},
     "outputs": [
      {
       "output_type": "stream",
       "stream": "stdout",
       "text": [
        "These\n",
        "are\n",
        "not\n",
        "the\n",
        "words\n",
        "of\n",
        "the\n",
        "star\n",
        "spangled\n",
        "banner"
       ]
      }
     ],
     "prompt_number": 409
    },
    {
     "cell_type": "code",
     "collapsed": false,
     "input": [
      "f = open(\"star-spangled.txt\", \"r\")\n",
      "print(f.readlines())\n",
      "f"
     ],
     "language": "python",
     "metadata": {},
     "outputs": [
      {
       "output_type": "stream",
       "stream": "stdout",
       "text": [
        "['These\\n', 'are\\n', 'not\\n', 'the\\n', 'words\\n', 'of\\n', 'the\\n', 'star\\n', 'spangled\\n', 'banner']\n"
       ]
      },
      {
       "metadata": {},
       "output_type": "pyout",
       "prompt_number": 410,
       "text": [
        "<_io.TextIOWrapper name='star-spangled.txt' mode='r' encoding='UTF-8'>"
       ]
      }
     ],
     "prompt_number": 410
    },
    {
     "cell_type": "code",
     "collapsed": false,
     "input": [
      "f = open(\"star-spangled.txt\", \"rb\")\n",
      "for line in f:\n",
      "    print(line, end=\"\")"
     ],
     "language": "python",
     "metadata": {},
     "outputs": [
      {
       "output_type": "stream",
       "stream": "stdout",
       "text": [
        "b'These\\n'b'are\\n'b'not\\n'b'the\\n'b'words\\n'b'of\\n'b'the\\n'b'star\\n'b'spangled\\n'b'banner'"
       ]
      }
     ],
     "prompt_number": 411
    },
    {
     "cell_type": "code",
     "collapsed": false,
     "input": [
      "o_f = open(\"binary.dat\", \"wb\")\n",
      "for i in range(256):\n",
      "    o_f.write(bytes([i]))\n",
      "o_f.close()"
     ],
     "language": "python",
     "metadata": {},
     "outputs": [],
     "prompt_number": 412
    },
    {
     "cell_type": "code",
     "collapsed": false,
     "input": [
      "i_f = open(\"binary.dat\", \"rb\")\n",
      "data = i_f.read(16)\n",
      "print([i for i in data])"
     ],
     "language": "python",
     "metadata": {},
     "outputs": [
      {
       "output_type": "stream",
       "stream": "stdout",
       "text": [
        "[0, 1, 2, 3, 4, 5, 6, 7, 8, 9, 10, 11, 12, 13, 14, 15]\n"
       ]
      }
     ],
     "prompt_number": 413
    },
    {
     "cell_type": "code",
     "collapsed": false,
     "input": [
      "i_f.seek(240) # absolute seek\n",
      "data = i_f.read(16)\n",
      "print([i for i in data])"
     ],
     "language": "python",
     "metadata": {},
     "outputs": [
      {
       "output_type": "stream",
       "stream": "stdout",
       "text": [
        "[240, 241, 242, 243, 244, 245, 246, 247, 248, 249, 250, 251, 252, 253, 254, 255]\n"
       ]
      }
     ],
     "prompt_number": 414
    },
    {
     "cell_type": "code",
     "collapsed": false,
     "input": [
      "i_f.seek(156, 0) # absolute seek\n",
      "data = i_f.read(16)\n",
      "print(type(data))\n",
      "print([i for i in data])\n",
      "i_f.tell()"
     ],
     "language": "python",
     "metadata": {},
     "outputs": [
      {
       "output_type": "stream",
       "stream": "stdout",
       "text": [
        "<class 'bytes'>\n",
        "[156, 157, 158, 159, 160, 161, 162, 163, 164, 165, 166, 167, 168, 169, 170, 171]\n"
       ]
      },
      {
       "metadata": {},
       "output_type": "pyout",
       "prompt_number": 415,
       "text": [
        "172"
       ]
      }
     ],
     "prompt_number": 415
    },
    {
     "cell_type": "code",
     "collapsed": false,
     "input": [
      "i_f.seek(-16, 1) # relative seek\n",
      "data = i_f.read(16) # reads the same bytes again\n",
      "print([i for i in data])\n",
      "i_f.tell()"
     ],
     "language": "python",
     "metadata": {},
     "outputs": [
      {
       "output_type": "stream",
       "stream": "stdout",
       "text": [
        "[156, 157, 158, 159, 160, 161, 162, 163, 164, 165, 166, 167, 168, 169, 170, 171]\n"
       ]
      },
      {
       "metadata": {},
       "output_type": "pyout",
       "prompt_number": 416,
       "text": [
        "172"
       ]
      }
     ],
     "prompt_number": 416
    },
    {
     "cell_type": "code",
     "collapsed": false,
     "input": [
      "i_f.seek(-16, 2) # end-relative seek\n",
      "data = i_f.read(16)\n",
      "print([i for i in data])\n",
      "i_f.tell()"
     ],
     "language": "python",
     "metadata": {},
     "outputs": [
      {
       "output_type": "stream",
       "stream": "stdout",
       "text": [
        "[240, 241, 242, 243, 244, 245, 246, 247, 248, 249, 250, 251, 252, 253, 254, 255]\n"
       ]
      },
      {
       "metadata": {},
       "output_type": "pyout",
       "prompt_number": 417,
       "text": [
        "256"
       ]
      }
     ],
     "prompt_number": 417
    },
    {
     "cell_type": "code",
     "collapsed": false,
     "input": [
      "i_f.seek(16, 2)\n",
      "data = i_f.read(16)\n",
      "print([i for i in data])\n",
      "print(i_f.tell())\n",
      "print(i_f.close())"
     ],
     "language": "python",
     "metadata": {},
     "outputs": [
      {
       "output_type": "stream",
       "stream": "stdout",
       "text": [
        "[]\n",
        "272\n",
        "None\n"
       ]
      }
     ],
     "prompt_number": 418
    },
    {
     "cell_type": "code",
     "collapsed": false,
     "input": [
      "w_f = open(\"binary.dat\", \"r+b\")\n",
      "print(w_f.tell())\n",
      "w_f.seek(272)\n",
      "print(w_f.tell())\n",
      "data = w_f.read(16)\n",
      "print([i for i in data])\n",
      "print(w_f.tell())"
     ],
     "language": "python",
     "metadata": {},
     "outputs": [
      {
       "output_type": "stream",
       "stream": "stdout",
       "text": [
        "0\n",
        "272\n",
        "[]\n",
        "272\n"
       ]
      }
     ],
     "prompt_number": 419
    },
    {
     "cell_type": "code",
     "collapsed": false,
     "input": [
      "w_f"
     ],
     "language": "python",
     "metadata": {},
     "outputs": [
      {
       "metadata": {},
       "output_type": "pyout",
       "prompt_number": 420,
       "text": [
        "<_io.BufferedRandom name='binary.dat'>"
       ]
      }
     ],
     "prompt_number": 420
    },
    {
     "cell_type": "code",
     "collapsed": false,
     "input": [
      "w_f.write(bytes([i for i in range(16)]))\n",
      "print(w_f.tell())"
     ],
     "language": "python",
     "metadata": {},
     "outputs": [
      {
       "output_type": "stream",
       "stream": "stdout",
       "text": [
        "288\n"
       ]
      }
     ],
     "prompt_number": 421
    },
    {
     "cell_type": "code",
     "collapsed": false,
     "input": [
      "w_f.seek(250)\n",
      "aardvark = w_f.read(32)\n",
      "print(len(aardvark))\n",
      "print([x for x in aardvark])"
     ],
     "language": "python",
     "metadata": {},
     "outputs": [
      {
       "output_type": "stream",
       "stream": "stdout",
       "text": [
        "32\n",
        "[250, 251, 252, 253, 254, 255, 0, 0, 0, 0, 0, 0, 0, 0, 0, 0, 0, 0, 0, 0, 0, 0, 0, 1, 2, 3, 4, 5, 6, 7, 8, 9]\n"
       ]
      }
     ],
     "prompt_number": 422
    },
    {
     "cell_type": "code",
     "collapsed": false,
     "input": [
      "w_f.seek(512)\n",
      "w_f.write(b'\\x00')\n",
      "w_f.tell()"
     ],
     "language": "python",
     "metadata": {},
     "outputs": [
      {
       "metadata": {},
       "output_type": "pyout",
       "prompt_number": 423,
       "text": [
        "513"
       ]
      }
     ],
     "prompt_number": 423
    },
    {
     "cell_type": "code",
     "collapsed": false,
     "input": [
      "w_f.seek(500)\n",
      "len(w_f.read(200))"
     ],
     "language": "python",
     "metadata": {},
     "outputs": [
      {
       "metadata": {},
       "output_type": "pyout",
       "prompt_number": 424,
       "text": [
        "13"
       ]
      }
     ],
     "prompt_number": 424
    }
   ],
   "metadata": {}
  }
 ]
}
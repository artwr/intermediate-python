{
 "metadata": {
  "name": ""
 },
 "nbformat": 3,
 "nbformat_minor": 0,
 "worksheets": [
  {
   "cells": [
    {
     "cell_type": "markdown",
     "metadata": {},
     "source": [
      "#### PRE-RELEASE REVIEW: O'Reilly Intermediate Python Video Series\n",
      "#### Topic: Encoding from Unicode \n",
      "Source located in `nbsource/encoding-from-unicode.ipynb`. Automatically rendered from `UNKNOWN` on 2014-03-17 at 12:08:37.127981.\n",
      "#### AUTOMATICALLY GENERATED TEST NOTEBOOK - CHANGES WILL BE LOST\n",
      "#### To TEST this Notebook<br />1. select Cell | Run All, or step through with Shift/Enter<br />2. Notebook turns pink when testing starts<br />3. It turns white when the it runs to completion.<br />4. Please check the executed notebook for clarity and correctness.<br />Please [raise an issue](https://github.com/holdenweb/intermediate-python/issues) about anything you don't understand - by all means attach a saved copy of the notebook to add explanations or questions. Also please let us know about stuff you want to see covered under any heading in the outline.\n",
      "#### Your comments on the content are also welcome, particularly when [reported as issues](https://github.com/holdenweb/intermediate-python/issues)"
     ]
    },
    {
     "cell_type": "heading",
     "level": 1,
     "metadata": {},
     "source": [
      "<img src=\"https://dl.dropboxusercontent.com/u/6117375/intermediate-notebooks/title_graphic.png\" />\n",
      "||| WORKING COPY ||| Encoding from Unicode"
     ]
    },
    {
     "cell_type": "markdown",
     "metadata": {},
     "source": [
      "This document was created on 2014-03-11 at 12:53:21.751442."
     ]
    },
    {
     "cell_type": "markdown",
     "metadata": {},
     "source": [
      "When your editing system is capable of handling Unicode (and the IPython Notebook certainly is) you can include Unicode characters directly in your string literals, but not in your byte strings. Unfortunately the only reliable mechanism for communication with arbitrary endpoints is a stream of bytes."
     ]
    },
    {
     "cell_type": "code",
     "collapsed": false,
     "input": [
      "hex(ord(\"\u20ac\"))"
     ],
     "language": "python",
     "metadata": {},
     "outputs": [
      {
       "metadata": {},
       "output_type": "pyout",
       "prompt_number": 3,
       "text": [
        "'0x20ac'"
       ]
      }
     ],
     "prompt_number": 3
    },
    {
     "cell_type": "markdown",
     "metadata": {},
     "source": [
      "When you are restricted to 256 different byte values Unicode is far too large to simply map each code point to a byte."
     ]
    },
    {
     "cell_type": "markdown",
     "metadata": {},
     "source": [
      "While nowadays Python source files can be (and normally are) Unicode based. If you are limited to ASCII you can use hexadecimal Unicode escape sequences to insert a Unicode code point in a string. The same is not the case for bytes."
     ]
    },
    {
     "cell_type": "markdown",
     "metadata": {},
     "source": [
      "Trying to include a non-representable character in a bytes literal leads to trouble, whether you use a Unicode character or an escape seqence."
     ]
    },
    {
     "cell_type": "code",
     "collapsed": false,
     "input": [
      "    b'Please pay \u20ac9.99 at exit'"
     ],
     "language": "python",
     "metadata": {},
     "outputs": [
      {
       "ename": "SyntaxError",
       "evalue": "bytes can only contain ASCII literal characters. (<ipython-input-5-aabe18356dea>, line 1)",
       "output_type": "pyerr",
       "traceback": [
        "\u001b[0;36m  File \u001b[0;32m\"<ipython-input-5-aabe18356dea>\"\u001b[0;36m, line \u001b[0;32m1\u001b[0m\n\u001b[0;31m    b'Please pay \u20ac9.99 at exit'\u001b[0m\n\u001b[0m                               ^\u001b[0m\n\u001b[0;31mSyntaxError\u001b[0m\u001b[0;31m:\u001b[0m bytes can only contain ASCII literal characters.\n"
       ]
      }
     ],
     "prompt_number": 5
    },
    {
     "cell_type": "markdown",
     "metadata": {},
     "source": [
      " The second type of trouble is much less fun: in a bytes literal \n",
      "Unicode escape sequences just aren't recognized, so the string is taken to be acceptable ASCII."
     ]
    },
    {
     "cell_type": "code",
     "collapsed": false,
     "input": [
      "b'Please pay \\u20ac9.99 at exit'"
     ],
     "language": "python",
     "metadata": {},
     "outputs": [
      {
       "metadata": {},
       "output_type": "pyout",
       "prompt_number": 3,
       "text": [
        "b'Please pay \\\\u20ac9.99 at exit'"
       ]
      }
     ],
     "prompt_number": 3
    },
    {
     "cell_type": "markdown",
     "metadata": {},
     "source": [
      "The issue here is that each character (or one-byte escape sequence) is supposed to appear in the bytestring as one byte. There is no way to represent the Euro symbol in a single byte. \n",
      "The question then arises as to how you write Unicode strings out to the byte streams that at base are the only way to communicate with storage devices and network endpoints."
     ]
    },
    {
     "cell_type": "markdown",
     "metadata": {},
     "source": [
      "So let's look at how the interpreter undertakes this fascinating task. We do so by the brute-force method of writing a text file out and then reading it back in binary."
     ]
    },
    {
     "cell_type": "markdown",
     "metadata": {},
     "source": [
      "The answer is by adopting encodings, but a further complication arises: how do two parties agree on the particular encoding to use? Sometimes people just use the default encoding (which by default is `UTF-8` for Python), and even that policy goes a long way. Some network protocols like HTTP allow headers to specifiy the encoding of some or all of the message content. We will disregard that question from now on.\n",
      "\n",
      "For now we will focus on the question of how you can convert `b1` to the Unicode string `\"Please pay \u20ac9.99 at exit\"`."
     ]
    },
    {
     "cell_type": "code",
     "collapsed": false,
     "input": [
      "s1 = 'Please pay \u20ac9.99 at exit'\n",
      "o_f = open(\"unicode.txt\", \"w\")\n",
      "print(type(o_f))\n",
      "o_f.write(s1)\n",
      "o_f.close()\n",
      "i_f = open(\"unicode.txt\", \"rb\")\n",
      "print(type(i_f))\n",
      "b1 = i_f.read()\n",
      "print(b1)\n",
      "i_f.close()"
     ],
     "language": "python",
     "metadata": {},
     "outputs": [
      {
       "output_type": "stream",
       "stream": "stdout",
       "text": [
        "<class '_io.TextIOWrapper'>\n",
        "<class '_io.BufferedReader'>\n",
        "b'Please pay \\xe2\\x82\\xac9.99 at exit'\n"
       ]
      }
     ],
     "prompt_number": 16
    },
    {
     "cell_type": "markdown",
     "metadata": {},
     "source": [
      "The interpreter has obviously written something other than the Unicode character to the file, and has written the Euro character out as the three-byte sequence `b'\\xe2\\x82\\xac'`."
     ]
    },
    {
     "cell_type": "markdown",
     "metadata": {},
     "source": [
      "You may wonder, if you happen to remember that the euro sign is Unicode code point `0x20ac`, why those bytes don't appear in `b1`. The answer is that the byte string `b1` represents an ___encoding___ of the (Unicode) string `'Please pay \u20ac9.99 at exit'`. The `io.TextWrapper` object `o_f` took your Unicode string and turned it into a sequence of bytes. In fact the three-byte string `'\\xe2\\x82\\xac'` is how the code point is encoded in a scheme known as ___UTF-8___.\n",
      "\n",
      "The system used to write these lessons had UTF-8 as its default encoding, which has many advantages in this role.\n",
      "As discussed elsewhere, for good reasons there are many different encodings, and by using Unicode your programs allow users to work with their favored encodings. Coding and decoding is performed by __codecs__. The [Python standard library\n",
      "](http://docs.python.org/3/library/codecs.html#standard-encodings) provides codecs for many of the more popular encodings."
     ]
    },
    {
     "cell_type": "code",
     "collapsed": false,
     "input": [
      "import sys\n",
      "sys.getdefaultencoding()"
     ],
     "language": "python",
     "metadata": {},
     "outputs": [
      {
       "metadata": {},
       "output_type": "pyout",
       "prompt_number": 20,
       "text": [
        "'utf-8'"
       ]
      }
     ],
     "prompt_number": 20
    },
    {
     "cell_type": "markdown",
     "metadata": {},
     "source": [
      "When you open a file you can specify the encoding you want to use. Not all encodings can handle the full range of Unicode code pints."
     ]
    },
    {
     "cell_type": "code",
     "collapsed": false,
     "input": [
      "s1 = 'Please pay \u20ac9.99 at exit'\n",
      "o_f = open(\"unicode.txt\", \"w\", encoding=\"IBM775\")\n",
      "print(type(o_f))\n",
      "o_f.write(s1)"
     ],
     "language": "python",
     "metadata": {},
     "outputs": [
      {
       "ename": "UnicodeEncodeError",
       "evalue": "'charmap' codec can't encode character '\\u20ac' in position 11: character maps to <undefined>",
       "output_type": "pyerr",
       "traceback": [
        "\u001b[0;31m---------------------------------------------------------------------------\u001b[0m\n\u001b[0;31mUnicodeEncodeError\u001b[0m                        Traceback (most recent call last)",
        "\u001b[0;32m<ipython-input-22-b26b9d05af42>\u001b[0m in \u001b[0;36m<module>\u001b[0;34m()\u001b[0m\n\u001b[1;32m      2\u001b[0m \u001b[0mo_f\u001b[0m \u001b[0;34m=\u001b[0m \u001b[0mopen\u001b[0m\u001b[0;34m(\u001b[0m\u001b[0;34m\"unicode.txt\"\u001b[0m\u001b[0;34m,\u001b[0m \u001b[0;34m\"w\"\u001b[0m\u001b[0;34m,\u001b[0m \u001b[0mencoding\u001b[0m\u001b[0;34m=\u001b[0m\u001b[0;34m\"IBM775\"\u001b[0m\u001b[0;34m)\u001b[0m\u001b[0;34m\u001b[0m\u001b[0m\n\u001b[1;32m      3\u001b[0m \u001b[0mprint\u001b[0m\u001b[0;34m(\u001b[0m\u001b[0mtype\u001b[0m\u001b[0;34m(\u001b[0m\u001b[0mo_f\u001b[0m\u001b[0;34m)\u001b[0m\u001b[0;34m)\u001b[0m\u001b[0;34m\u001b[0m\u001b[0m\n\u001b[0;32m----> 4\u001b[0;31m \u001b[0mo_f\u001b[0m\u001b[0;34m.\u001b[0m\u001b[0mwrite\u001b[0m\u001b[0;34m(\u001b[0m\u001b[0ms1\u001b[0m\u001b[0;34m)\u001b[0m\u001b[0;34m\u001b[0m\u001b[0m\n\u001b[0m\u001b[1;32m      5\u001b[0m \u001b[0mo_f\u001b[0m\u001b[0;34m.\u001b[0m\u001b[0mclose\u001b[0m\u001b[0;34m(\u001b[0m\u001b[0;34m)\u001b[0m\u001b[0;34m\u001b[0m\u001b[0m\n\u001b[1;32m      6\u001b[0m \u001b[0mi_f\u001b[0m \u001b[0;34m=\u001b[0m \u001b[0mopen\u001b[0m\u001b[0;34m(\u001b[0m\u001b[0;34m\"unicode.txt\"\u001b[0m\u001b[0;34m,\u001b[0m \u001b[0;34m\"rb\"\u001b[0m\u001b[0;34m)\u001b[0m\u001b[0;34m\u001b[0m\u001b[0m\n",
        "\u001b[0;32m/Users/sholden/.virtualenvs/py3/lib/python3.3/encodings/cp775.py\u001b[0m in \u001b[0;36mencode\u001b[0;34m(self, input, final)\u001b[0m\n\u001b[1;32m     17\u001b[0m \u001b[0;32mclass\u001b[0m \u001b[0mIncrementalEncoder\u001b[0m\u001b[0;34m(\u001b[0m\u001b[0mcodecs\u001b[0m\u001b[0;34m.\u001b[0m\u001b[0mIncrementalEncoder\u001b[0m\u001b[0;34m)\u001b[0m\u001b[0;34m:\u001b[0m\u001b[0;34m\u001b[0m\u001b[0m\n\u001b[1;32m     18\u001b[0m     \u001b[0;32mdef\u001b[0m \u001b[0mencode\u001b[0m\u001b[0;34m(\u001b[0m\u001b[0mself\u001b[0m\u001b[0;34m,\u001b[0m \u001b[0minput\u001b[0m\u001b[0;34m,\u001b[0m \u001b[0mfinal\u001b[0m\u001b[0;34m=\u001b[0m\u001b[0;32mFalse\u001b[0m\u001b[0;34m)\u001b[0m\u001b[0;34m:\u001b[0m\u001b[0;34m\u001b[0m\u001b[0m\n\u001b[0;32m---> 19\u001b[0;31m         \u001b[0;32mreturn\u001b[0m \u001b[0mcodecs\u001b[0m\u001b[0;34m.\u001b[0m\u001b[0mcharmap_encode\u001b[0m\u001b[0;34m(\u001b[0m\u001b[0minput\u001b[0m\u001b[0;34m,\u001b[0m\u001b[0mself\u001b[0m\u001b[0;34m.\u001b[0m\u001b[0merrors\u001b[0m\u001b[0;34m,\u001b[0m\u001b[0mencoding_map\u001b[0m\u001b[0;34m)\u001b[0m\u001b[0;34m[\u001b[0m\u001b[0;36m0\u001b[0m\u001b[0;34m]\u001b[0m\u001b[0;34m\u001b[0m\u001b[0m\n\u001b[0m\u001b[1;32m     20\u001b[0m \u001b[0;34m\u001b[0m\u001b[0m\n\u001b[1;32m     21\u001b[0m \u001b[0;32mclass\u001b[0m \u001b[0mIncrementalDecoder\u001b[0m\u001b[0;34m(\u001b[0m\u001b[0mcodecs\u001b[0m\u001b[0;34m.\u001b[0m\u001b[0mIncrementalDecoder\u001b[0m\u001b[0;34m)\u001b[0m\u001b[0;34m:\u001b[0m\u001b[0;34m\u001b[0m\u001b[0m\n",
        "\u001b[0;31mUnicodeEncodeError\u001b[0m: 'charmap' codec can't encode character '\\u20ac' in position 11: character maps to <undefined>"
       ]
      },
      {
       "output_type": "stream",
       "stream": "stdout",
       "text": [
        "<class '_io.TextIOWrapper'>\n"
       ]
      }
     ],
     "prompt_number": 22
    },
    {
     "cell_type": "code",
     "collapsed": false,
     "input": [
      "s1 = 'Please pay \u20ac9.99 at exit'\n",
      "o_f = open(\"unicode.txt\", \"w\", encoding=\"utf-16-be\")\n",
      "print(type(o_f))\n",
      "o_f.write(s1)\n",
      "o_f.close()\n",
      "i_f = open(\"unicode.txt\", \"rb\")\n",
      "print(type(i_f))\n",
      "b1 = i_f.read()\n",
      "for b in b1[::2]:\n",
      "    print(\"{!x} {!c}\".format(b, b))\n",
      "i_f.close()"
     ],
     "language": "python",
     "metadata": {},
     "outputs": [
      {
       "ename": "ValueError",
       "evalue": "Unknown conversion specifier x",
       "output_type": "pyerr",
       "traceback": [
        "\u001b[0;31m---------------------------------------------------------------------------\u001b[0m\n\u001b[0;31mValueError\u001b[0m                                Traceback (most recent call last)",
        "\u001b[0;32m<ipython-input-45-d06089fac1c3>\u001b[0m in \u001b[0;36m<module>\u001b[0;34m()\u001b[0m\n\u001b[1;32m      8\u001b[0m \u001b[0mb1\u001b[0m \u001b[0;34m=\u001b[0m \u001b[0mi_f\u001b[0m\u001b[0;34m.\u001b[0m\u001b[0mread\u001b[0m\u001b[0;34m(\u001b[0m\u001b[0;34m)\u001b[0m\u001b[0;34m\u001b[0m\u001b[0m\n\u001b[1;32m      9\u001b[0m \u001b[0;32mfor\u001b[0m \u001b[0mb\u001b[0m \u001b[0;32min\u001b[0m \u001b[0mb1\u001b[0m\u001b[0;34m[\u001b[0m\u001b[0;34m:\u001b[0m\u001b[0;34m:\u001b[0m\u001b[0;36m2\u001b[0m\u001b[0;34m]\u001b[0m\u001b[0;34m:\u001b[0m\u001b[0;34m\u001b[0m\u001b[0m\n\u001b[0;32m---> 10\u001b[0;31m     \u001b[0mprint\u001b[0m\u001b[0;34m(\u001b[0m\u001b[0;34m\"{!x} {!c}\"\u001b[0m\u001b[0;34m.\u001b[0m\u001b[0mformat\u001b[0m\u001b[0;34m(\u001b[0m\u001b[0mb\u001b[0m\u001b[0;34m,\u001b[0m \u001b[0mb\u001b[0m\u001b[0;34m)\u001b[0m\u001b[0;34m)\u001b[0m\u001b[0;34m\u001b[0m\u001b[0m\n\u001b[0m\u001b[1;32m     11\u001b[0m \u001b[0mi_f\u001b[0m\u001b[0;34m.\u001b[0m\u001b[0mclose\u001b[0m\u001b[0;34m(\u001b[0m\u001b[0;34m)\u001b[0m\u001b[0;34m\u001b[0m\u001b[0m\n",
        "\u001b[0;31mValueError\u001b[0m: Unknown conversion specifier x"
       ]
      },
      {
       "output_type": "stream",
       "stream": "stdout",
       "text": [
        "<class '_io.TextIOWrapper'>\n",
        "<class '_io.BufferedReader'>\n"
       ]
      }
     ],
     "prompt_number": 45
    },
    {
     "cell_type": "code",
     "collapsed": false,
     "input": [
      "be = b'\\x20\\xac'"
     ],
     "language": "python",
     "metadata": {},
     "outputs": [],
     "prompt_number": 36
    },
    {
     "cell_type": "code",
     "collapsed": false,
     "input": [
      "be.decode('utf-16-be')"
     ],
     "language": "python",
     "metadata": {},
     "outputs": [
      {
       "metadata": {},
       "output_type": "pyout",
       "prompt_number": 37,
       "text": [
        "'\u20ac'"
       ]
      }
     ],
     "prompt_number": 37
    },
    {
     "cell_type": "code",
     "collapsed": false,
     "input": [
      "be."
     ],
     "language": "python",
     "metadata": {},
     "outputs": []
    }
   ],
   "metadata": {}
  }
 ]
}
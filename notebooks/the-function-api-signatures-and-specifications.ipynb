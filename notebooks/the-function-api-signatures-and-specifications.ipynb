{
 "metadata": {
  "name": ""
 },
 "nbformat": 3,
 "nbformat_minor": 0,
 "worksheets": [
  {
   "cells": [
    {
     "cell_type": "markdown",
     "metadata": {},
     "source": [
      "#### PRE-RELEASE REVIEW: O'Reilly Intermediate Python Video Series\n",
      "#### Topic: The Function API - Signatures and Specifications \n",
      "Source located in `nbsource/the-function-api-signatures-and-specifications.ipynb`. Automatically rendered from `UNKNOWN` on 2014-03-21 at 00:38:27.297544.\n",
      "#### AUTOMATICALLY GENERATED TEST NOTEBOOK - CHANGES WILL BE LOST\n",
      "#### To TEST this Notebook<br />1. select Cell | Run All, or step through with Shift/Enter<br />2. Notebook turns pink when testing starts<br />3. It turns white when the it runs to completion.<br />4. Please check the executed notebook for clarity and correctness.<br />Please [raise an issue](https://github.com/holdenweb/intermediate-python/issues) about anything you don't understand - by all means attach a saved copy of the notebook to add explanations or questions. Also please let us know about stuff you want to see covered under any heading in the outline.\n",
      "#### Your comments on the content are also welcome, particularly when [reported as issues](https://github.com/holdenweb/intermediate-python/issues)"
     ]
    },
    {
     "cell_type": "heading",
     "level": 1,
     "metadata": {},
     "source": [
      "<img src=\"files/images/title_graphic.png\" />\n",
      "||| WORKING COPY ||| More About Functions"
     ]
    },
    {
     "cell_type": "markdown",
     "metadata": {},
     "source": [
      "This document was created on 2014-03-18 at 14:06:20.894222."
     ]
    },
    {
     "cell_type": "markdown",
     "metadata": {},
     "source": [
      "I try to distinguish between _parameters_ (the names used as placeholders in the definition) and _arguments_ (the expressions passed to a function when it is called). I am not always successful, and many programmers appear to use the terms interchangeably."
     ]
    },
    {
     "cell_type": "markdown",
     "metadata": {},
     "source": [
      "Beginners often expect to be able to affect the function's environment by passing a variable to which they then assign a value in the function. This is a brief explanation of why this can't happen."
     ]
    },
    {
     "cell_type": "heading",
     "level": 3,
     "metadata": {},
     "source": [
      "Assignment to Parameters Within the Function Body"
     ]
    },
    {
     "cell_type": "code",
     "collapsed": false,
     "input": [
      "def assign_to_parameter(x):\n",
      "    print(\"x was\", x)\n",
      "    x = 2*x\n",
      "    print(\"x is now\", x)\n",
      "\n",
      "a = [1, 2, 3]\n",
      "assign_to_parameter(a)\n",
      "print(\"a is\", a)"
     ],
     "language": "python",
     "metadata": {},
     "outputs": [
      {
       "output_type": "stream",
       "stream": "stdout",
       "text": [
        "x was [1, 2, 3]\n",
        "x is now [1, 2, 3, 1, 2, 3]\n",
        "a is [1, 2, 3]\n"
       ]
      }
     ],
     "prompt_number": 21
    },
    {
     "cell_type": "markdown",
     "metadata": {},
     "source": [
      "The reason for this is best demonstrated with a brilliant little tool called the Online Python Tutor that visualizes Python programs in execution. The same code you see above is visualized below and you can execute it step by step."
     ]
    },
    {
     "cell_type": "code",
     "collapsed": false,
     "input": [
      "from IPython.display import HTML\n",
      "HTML(\"\"\"<iframe width=\"1000\" height=\"600\" frameborder=\"0\" src=\"http://pythontutor.com/iframe-embed.html#code=def+assign_to_parameter(x)%3A%0A++++print(%22x+was%22,+x)%0A++++x+%3D+2*x%0A++++print(%22x+is+now%22,+x)%0A%0Aa+%3D+%5B1,+2,+3%5D%0Aassign_to_parameter(a)%0Aprint(%22a+is+now%22,+a)&cumulative=false&heapPrimitives=false&drawParentPointers=false&textReferences=false&showOnlyOutputs=false&py=3&curInstr=0&codeDivWidth=350&codeDivHeight=400\"> </iframe>\"\"\")"
     ],
     "language": "python",
     "metadata": {},
     "outputs": [
      {
       "html": [
        "<iframe width=\"1000\" height=\"600\" frameborder=\"0\" src=\"http://pythontutor.com/iframe-embed.html#code=def+assign_to_parameter(x)%3A%0A++++print(%22x+was%22,+x)%0A++++x+%3D+2*x%0A++++print(%22x+is+now%22,+x)%0A%0Aa+%3D+%5B1,+2,+3%5D%0Aassign_to_parameter(a)%0Aprint(%22a+is+now%22,+a)&cumulative=false&heapPrimitives=false&drawParentPointers=false&textReferences=false&showOnlyOutputs=false&py=3&curInstr=0&codeDivWidth=350&codeDivHeight=400\"> </iframe>"
       ],
       "metadata": {},
       "output_type": "pyout",
       "prompt_number": 22,
       "text": [
        "<IPython.core.display.HTML at 0x110e79a90>"
       ]
      }
     ],
     "prompt_number": 22
    },
    {
     "cell_type": "code",
     "collapsed": false,
     "input": [
      "def mutate_parameter(x):\n",
      "    print(\"x was\", x)\n",
      "    x[1] += 1\n",
      "    print(\"x is now\", x)\n",
      "\n",
      "a = [1, 2, 3]\n",
      "mutate_parameter(a)\n",
      "print(\"a is\", a)"
     ],
     "language": "python",
     "metadata": {},
     "outputs": []
    },
    {
     "cell_type": "markdown",
     "metadata": {},
     "source": [
      "Let's use the Tutor to see what the difference is. Note that in this function _no rebinding of the parameter takes place_."
     ]
    },
    {
     "cell_type": "code",
     "collapsed": false,
     "input": [
      "HTML(\"\"\"<iframe width=\"1000\" height=\"600\" frameborder=\"0\" src=\"http://pythontutor.com/iframe-embed.html#code=def+mutate_parameter(x)%3A%0A++++print(%22x+was%22,+x)%0A++++x%5B1%5D+%2B%3D+1%0A++++print(%22x+is+now%22,+x)%0A%0Aa+%3D+%5B1,+2,+3%5D%0Amutate_parameter(a)%0Aprint(%22a+is%22,+a)&cumulative=false&heapPrimitives=false&drawParentPointers=false&textReferences=false&showOnlyOutputs=false&py=3&curInstr=0&codeDivWidth=350&codeDivHeight=400\"> </iframe>\"\"\")"
     ],
     "language": "python",
     "metadata": {},
     "outputs": []
    },
    {
     "cell_type": "code",
     "collapsed": false,
     "input": [
      "def mutable_default_arg(x, starter_list=[]):\n",
      "    starter_list.append(x)\n",
      "    return starter_list\n",
      "\n",
      "print(mutable_default_arg(42))\n",
      "print(mutable_default_arg(\"string\"))\n",
      "print(mutable_default_arg(1, []))"
     ],
     "language": "python",
     "metadata": {},
     "outputs": []
    },
    {
     "cell_type": "code",
     "collapsed": false,
     "input": [
      "x = mutable_default_arg(\"x init\")\n",
      "y = mutable_default_arg(\"y init\")\n",
      "x, y"
     ],
     "language": "python",
     "metadata": {},
     "outputs": []
    },
    {
     "cell_type": "code",
     "collapsed": false,
     "input": [],
     "language": "python",
     "metadata": {},
     "outputs": []
    },
    {
     "cell_type": "code",
     "collapsed": false,
     "input": [
      "def mutable_default_arg(x, starter_list=None):\n",
      "    if starter_list is None:\n",
      "        starter_list = []\n",
      "    starter_list.append(x)\n",
      "    return starter_list\n"
     ],
     "language": "python",
     "metadata": {},
     "outputs": []
    },
    {
     "cell_type": "code",
     "collapsed": false,
     "input": [
      "print(mutable_default_arg(42))\n",
      "print(mutable_default_arg(\"string\"))\n",
      "print(mutable_default_arg(1, []))"
     ],
     "language": "python",
     "metadata": {},
     "outputs": []
    },
    {
     "cell_type": "code",
     "collapsed": false,
     "input": [
      "x = mutable_default_arg(\"x init\")\n",
      "y = mutable_default_arg(\"y init\")\n",
      "x, y"
     ],
     "language": "python",
     "metadata": {},
     "outputs": []
    },
    {
     "cell_type": "code",
     "collapsed": false,
     "input": [],
     "language": "python",
     "metadata": {},
     "outputs": []
    }
   ],
   "metadata": {}
  }
 ]
}
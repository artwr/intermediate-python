{
 "metadata": {
  "name": ""
 },
 "nbformat": 3,
 "nbformat_minor": 0,
 "worksheets": [
  {
   "cells": [
    {
     "cell_type": "markdown",
     "metadata": {},
     "source": [
      "#### PRE-RELEASE REVIEW: O'Reilly Intermediate Python Video Series\n",
      "#### Topic: Decoding to Unicode \n",
      "Source located in `nbsource/decoding-to-unicode.ipynb`. Automatically rendered from `UNKNOWN` on 2014-03-17 at 12:05:05.320751.\n",
      "#### AUTOMATICALLY GENERATED TEST NOTEBOOK - CHANGES WILL BE LOST\n",
      "#### To TEST this Notebook<br />1. select Cell | Run All, or step through with Shift/Enter<br />2. Notebook turns pink when testing starts<br />3. It turns white when the it runs to completion.<br />4. Please check the executed notebook for clarity and correctness.<br />Please [raise an issue](https://github.com/holdenweb/intermediate-python/issues) about anything you don't understand - by all means attach a saved copy of the notebook to add explanations or questions. Also please let us know about stuff you want to see covered under any heading in the outline.\n",
      "#### Your comments on the content are also welcome, particularly when [reported as issues](https://github.com/holdenweb/intermediate-python/issues)"
     ]
    },
    {
     "cell_type": "heading",
     "level": 1,
     "metadata": {},
     "source": [
      "<img src=\"https://dl.dropboxusercontent.com/u/6117375/intermediate-notebooks/title_graphic.png\" />\n",
      "||| WORKING COPY ||| Decoding to Unicode"
     ]
    },
    {
     "cell_type": "markdown",
     "metadata": {},
     "source": [
      "This document was created on 2014-03-11 at 12:53:30.057820."
     ]
    },
    {
     "cell_type": "code",
     "collapsed": false,
     "input": [
      "f = open(\"unicode.txt\", \"w\")\n",
      "f.write(\"\u20ac\")\n",
      "f.close()"
     ],
     "language": "python",
     "metadata": {},
     "outputs": [],
     "prompt_number": 1
    },
    {
     "cell_type": "code",
     "collapsed": false,
     "input": [
      "f = open(\"unicode.txt\", \"rb\")\n",
      "euro = f.read()\n",
      "[hex(i) for i in euro]"
     ],
     "language": "python",
     "metadata": {},
     "outputs": [
      {
       "metadata": {},
       "output_type": "pyout",
       "prompt_number": 2,
       "text": [
        "['0xe2', '0x82', '0xac']"
       ]
      }
     ],
     "prompt_number": 2
    },
    {
     "cell_type": "code",
     "collapsed": false,
     "input": [
      "type(\"\u20ac\"), type(euro)"
     ],
     "language": "python",
     "metadata": {},
     "outputs": [
      {
       "metadata": {},
       "output_type": "pyout",
       "prompt_number": 3,
       "text": [
        "(builtins.str, builtins.bytes)"
       ]
      }
     ],
     "prompt_number": 3
    },
    {
     "cell_type": "code",
     "collapsed": false,
     "input": [
      "[n for n in dir(euro) if not n.startswith(\"_\")]"
     ],
     "language": "python",
     "metadata": {},
     "outputs": [
      {
       "metadata": {},
       "output_type": "pyout",
       "prompt_number": 4,
       "text": [
        "['capitalize',\n",
        " 'center',\n",
        " 'count',\n",
        " 'decode',\n",
        " 'endswith',\n",
        " 'expandtabs',\n",
        " 'find',\n",
        " 'fromhex',\n",
        " 'index',\n",
        " 'isalnum',\n",
        " 'isalpha',\n",
        " 'isdigit',\n",
        " 'islower',\n",
        " 'isspace',\n",
        " 'istitle',\n",
        " 'isupper',\n",
        " 'join',\n",
        " 'ljust',\n",
        " 'lower',\n",
        " 'lstrip',\n",
        " 'maketrans',\n",
        " 'partition',\n",
        " 'replace',\n",
        " 'rfind',\n",
        " 'rindex',\n",
        " 'rjust',\n",
        " 'rpartition',\n",
        " 'rsplit',\n",
        " 'rstrip',\n",
        " 'split',\n",
        " 'splitlines',\n",
        " 'startswith',\n",
        " 'strip',\n",
        " 'swapcase',\n",
        " 'title',\n",
        " 'translate',\n",
        " 'upper',\n",
        " 'zfill']"
       ]
      }
     ],
     "prompt_number": 4
    },
    {
     "cell_type": "code",
     "collapsed": false,
     "input": [
      "help(euro.decode)"
     ],
     "language": "python",
     "metadata": {},
     "outputs": [
      {
       "output_type": "stream",
       "stream": "stdout",
       "text": [
        "Help on built-in function decode:\n",
        "\n",
        "decode(...)\n",
        "    B.decode(encoding='utf-8', errors='strict') -> str\n",
        "    \n",
        "    Decode B using the codec registered for encoding. Default encoding\n",
        "    is 'utf-8'. errors may be given to set a different error\n",
        "    handling scheme.  Default is 'strict' meaning that encoding errors raise\n",
        "    a UnicodeDecodeError.  Other possible values are 'ignore' and 'replace'\n",
        "    as well as any other name registerd with codecs.register_error that is\n",
        "    able to handle UnicodeDecodeErrors.\n",
        "\n"
       ]
      }
     ],
     "prompt_number": 5
    },
    {
     "cell_type": "code",
     "collapsed": false,
     "input": [
      "euro.decode()"
     ],
     "language": "python",
     "metadata": {},
     "outputs": [
      {
       "metadata": {},
       "output_type": "pyout",
       "prompt_number": 6,
       "text": [
        "'\u20ac'"
       ]
      }
     ],
     "prompt_number": 6
    },
    {
     "cell_type": "code",
     "collapsed": false,
     "input": [
      "import codecs\n",
      "dir(codecs)"
     ],
     "language": "python",
     "metadata": {},
     "outputs": [
      {
       "metadata": {},
       "output_type": "pyout",
       "prompt_number": 22,
       "text": [
        "['BOM',\n",
        " 'BOM32_BE',\n",
        " 'BOM32_LE',\n",
        " 'BOM64_BE',\n",
        " 'BOM64_LE',\n",
        " 'BOM_BE',\n",
        " 'BOM_LE',\n",
        " 'BOM_UTF16',\n",
        " 'BOM_UTF16_BE',\n",
        " 'BOM_UTF16_LE',\n",
        " 'BOM_UTF32',\n",
        " 'BOM_UTF32_BE',\n",
        " 'BOM_UTF32_LE',\n",
        " 'BOM_UTF8',\n",
        " 'BufferedIncrementalDecoder',\n",
        " 'BufferedIncrementalEncoder',\n",
        " 'Codec',\n",
        " 'CodecInfo',\n",
        " 'EncodedFile',\n",
        " 'IncrementalDecoder',\n",
        " 'IncrementalEncoder',\n",
        " 'StreamReader',\n",
        " 'StreamReaderWriter',\n",
        " 'StreamRecoder',\n",
        " 'StreamWriter',\n",
        " '__all__',\n",
        " '__builtins__',\n",
        " '__cached__',\n",
        " '__doc__',\n",
        " '__file__',\n",
        " '__initializing__',\n",
        " '__loader__',\n",
        " '__name__',\n",
        " '__package__',\n",
        " '_false',\n",
        " 'ascii_decode',\n",
        " 'ascii_encode',\n",
        " 'backslashreplace_errors',\n",
        " 'builtins',\n",
        " 'charmap_build',\n",
        " 'charmap_decode',\n",
        " 'charmap_encode',\n",
        " 'decode',\n",
        " 'encode',\n",
        " 'escape_decode',\n",
        " 'escape_encode',\n",
        " 'getdecoder',\n",
        " 'getencoder',\n",
        " 'getincrementaldecoder',\n",
        " 'getincrementalencoder',\n",
        " 'getreader',\n",
        " 'getwriter',\n",
        " 'ignore_errors',\n",
        " 'iterdecode',\n",
        " 'iterencode',\n",
        " 'latin_1_decode',\n",
        " 'latin_1_encode',\n",
        " 'lookup',\n",
        " 'lookup_error',\n",
        " 'make_encoding_map',\n",
        " 'make_identity_dict',\n",
        " 'open',\n",
        " 'raw_unicode_escape_decode',\n",
        " 'raw_unicode_escape_encode',\n",
        " 'readbuffer_encode',\n",
        " 'register',\n",
        " 'register_error',\n",
        " 'replace_errors',\n",
        " 'strict_errors',\n",
        " 'sys',\n",
        " 'unicode_escape_decode',\n",
        " 'unicode_escape_encode',\n",
        " 'unicode_internal_decode',\n",
        " 'unicode_internal_encode',\n",
        " 'utf_16_be_decode',\n",
        " 'utf_16_be_encode',\n",
        " 'utf_16_decode',\n",
        " 'utf_16_encode',\n",
        " 'utf_16_ex_decode',\n",
        " 'utf_16_le_decode',\n",
        " 'utf_16_le_encode',\n",
        " 'utf_32_be_decode',\n",
        " 'utf_32_be_encode',\n",
        " 'utf_32_decode',\n",
        " 'utf_32_encode',\n",
        " 'utf_32_ex_decode',\n",
        " 'utf_32_le_decode',\n",
        " 'utf_32_le_encode',\n",
        " 'utf_7_decode',\n",
        " 'utf_7_encode',\n",
        " 'utf_8_decode',\n",
        " 'utf_8_encode',\n",
        " 'xmlcharrefreplace_errors']"
       ]
      }
     ],
     "prompt_number": 22
    },
    {
     "cell_type": "code",
     "collapsed": false,
     "input": [
      "utf_16_codec = codecs.utf_16_decode"
     ],
     "language": "python",
     "metadata": {},
     "outputs": [],
     "prompt_number": 8
    },
    {
     "cell_type": "code",
     "collapsed": false,
     "input": [
      "type(utf_16_codec)"
     ],
     "language": "python",
     "metadata": {},
     "outputs": [
      {
       "metadata": {},
       "output_type": "pyout",
       "prompt_number": 9,
       "text": [
        "builtins.builtin_function_or_method"
       ]
      }
     ],
     "prompt_number": 9
    },
    {
     "cell_type": "code",
     "collapsed": false,
     "input": [
      "dir(utf_16_codec)"
     ],
     "language": "python",
     "metadata": {},
     "outputs": [
      {
       "metadata": {},
       "output_type": "pyout",
       "prompt_number": 13,
       "text": [
        "['__call__',\n",
        " '__class__',\n",
        " '__delattr__',\n",
        " '__dir__',\n",
        " '__doc__',\n",
        " '__eq__',\n",
        " '__format__',\n",
        " '__ge__',\n",
        " '__getattribute__',\n",
        " '__gt__',\n",
        " '__hash__',\n",
        " '__init__',\n",
        " '__le__',\n",
        " '__lt__',\n",
        " '__module__',\n",
        " '__name__',\n",
        " '__ne__',\n",
        " '__new__',\n",
        " '__qualname__',\n",
        " '__reduce__',\n",
        " '__reduce_ex__',\n",
        " '__repr__',\n",
        " '__self__',\n",
        " '__setattr__',\n",
        " '__sizeof__',\n",
        " '__str__',\n",
        " '__subclasshook__']"
       ]
      }
     ],
     "prompt_number": 13
    },
    {
     "cell_type": "code",
     "collapsed": false,
     "input": [
      "help(utf_16_codec)"
     ],
     "language": "python",
     "metadata": {},
     "outputs": [
      {
       "output_type": "stream",
       "stream": "stdout",
       "text": [
        "Help on built-in function utf_16_decode in module _codecs:\n",
        "\n",
        "utf_16_decode(...)\n",
        "\n"
       ]
      }
     ],
     "prompt_number": 17
    },
    {
     "cell_type": "markdown",
     "metadata": {},
     "source": [
      "[Python codecs documentation](http://docs.python.org/3/library/codecs.html)"
     ]
    },
    {
     "cell_type": "code",
     "collapsed": false,
     "input": [
      "euro"
     ],
     "language": "python",
     "metadata": {},
     "outputs": [
      {
       "metadata": {},
       "output_type": "pyout",
       "prompt_number": 19,
       "text": [
        "b'\\xe2\\x82\\xac'"
       ]
      }
     ],
     "prompt_number": 19
    },
    {
     "cell_type": "code",
     "collapsed": false,
     "input": [
      "euro.decode(\"utf-8\")"
     ],
     "language": "python",
     "metadata": {},
     "outputs": [
      {
       "metadata": {},
       "output_type": "pyout",
       "prompt_number": 20,
       "text": [
        "'\u20ac'"
       ]
      }
     ],
     "prompt_number": 20
    },
    {
     "cell_type": "code",
     "collapsed": false,
     "input": [
      "euro.decode(\"utf-16\")"
     ],
     "language": "python",
     "metadata": {},
     "outputs": [
      {
       "ename": "UnicodeDecodeError",
       "evalue": "'utf16' codec can't decode byte 0xac in position 2: truncated data",
       "output_type": "pyerr",
       "traceback": [
        "\u001b[0;31m---------------------------------------------------------------------------\u001b[0m\n\u001b[0;31mUnicodeDecodeError\u001b[0m                        Traceback (most recent call last)",
        "\u001b[0;32m<ipython-input-21-a600486020ad>\u001b[0m in \u001b[0;36m<module>\u001b[0;34m()\u001b[0m\n\u001b[0;32m----> 1\u001b[0;31m \u001b[0meuro\u001b[0m\u001b[0;34m.\u001b[0m\u001b[0mdecode\u001b[0m\u001b[0;34m(\u001b[0m\u001b[0;34m\"utf-16\"\u001b[0m\u001b[0;34m)\u001b[0m\u001b[0;34m\u001b[0m\u001b[0m\n\u001b[0m",
        "\u001b[0;31mUnicodeDecodeError\u001b[0m: 'utf16' codec can't decode byte 0xac in position 2: truncated data"
       ]
      }
     ],
     "prompt_number": 21
    },
    {
     "cell_type": "code",
     "collapsed": false,
     "input": [
      "from encodings import cp1252"
     ],
     "language": "python",
     "metadata": {},
     "outputs": [],
     "prompt_number": 23
    },
    {
     "cell_type": "code",
     "collapsed": false,
     "input": [
      "type(cp1252.decoding_table), type(cp1252.encoding_table)"
     ],
     "language": "python",
     "metadata": {},
     "outputs": [
      {
       "metadata": {},
       "output_type": "pyout",
       "prompt_number": 32,
       "text": [
        "(builtins.str, builtins.EncodingMap)"
       ]
      }
     ],
     "prompt_number": 32
    },
    {
     "cell_type": "code",
     "collapsed": false,
     "input": [
      "len(cp1252.decoding_table), len(cp1252.decoding_table)"
     ],
     "language": "python",
     "metadata": {},
     "outputs": [
      {
       "metadata": {},
       "output_type": "pyout",
       "prompt_number": 29,
       "text": [
        "(256, 256)"
       ]
      }
     ],
     "prompt_number": 29
    },
    {
     "cell_type": "code",
     "collapsed": false,
     "input": [
      "[ord(c) for c in cp1252.decoding_table]"
     ],
     "language": "python",
     "metadata": {},
     "outputs": [
      {
       "metadata": {},
       "output_type": "pyout",
       "prompt_number": 30,
       "text": [
        "[0,\n",
        " 1,\n",
        " 2,\n",
        " 3,\n",
        " 4,\n",
        " 5,\n",
        " 6,\n",
        " 7,\n",
        " 8,\n",
        " 9,\n",
        " 10,\n",
        " 11,\n",
        " 12,\n",
        " 13,\n",
        " 14,\n",
        " 15,\n",
        " 16,\n",
        " 17,\n",
        " 18,\n",
        " 19,\n",
        " 20,\n",
        " 21,\n",
        " 22,\n",
        " 23,\n",
        " 24,\n",
        " 25,\n",
        " 26,\n",
        " 27,\n",
        " 28,\n",
        " 29,\n",
        " 30,\n",
        " 31,\n",
        " 32,\n",
        " 33,\n",
        " 34,\n",
        " 35,\n",
        " 36,\n",
        " 37,\n",
        " 38,\n",
        " 39,\n",
        " 40,\n",
        " 41,\n",
        " 42,\n",
        " 43,\n",
        " 44,\n",
        " 45,\n",
        " 46,\n",
        " 47,\n",
        " 48,\n",
        " 49,\n",
        " 50,\n",
        " 51,\n",
        " 52,\n",
        " 53,\n",
        " 54,\n",
        " 55,\n",
        " 56,\n",
        " 57,\n",
        " 58,\n",
        " 59,\n",
        " 60,\n",
        " 61,\n",
        " 62,\n",
        " 63,\n",
        " 64,\n",
        " 65,\n",
        " 66,\n",
        " 67,\n",
        " 68,\n",
        " 69,\n",
        " 70,\n",
        " 71,\n",
        " 72,\n",
        " 73,\n",
        " 74,\n",
        " 75,\n",
        " 76,\n",
        " 77,\n",
        " 78,\n",
        " 79,\n",
        " 80,\n",
        " 81,\n",
        " 82,\n",
        " 83,\n",
        " 84,\n",
        " 85,\n",
        " 86,\n",
        " 87,\n",
        " 88,\n",
        " 89,\n",
        " 90,\n",
        " 91,\n",
        " 92,\n",
        " 93,\n",
        " 94,\n",
        " 95,\n",
        " 96,\n",
        " 97,\n",
        " 98,\n",
        " 99,\n",
        " 100,\n",
        " 101,\n",
        " 102,\n",
        " 103,\n",
        " 104,\n",
        " 105,\n",
        " 106,\n",
        " 107,\n",
        " 108,\n",
        " 109,\n",
        " 110,\n",
        " 111,\n",
        " 112,\n",
        " 113,\n",
        " 114,\n",
        " 115,\n",
        " 116,\n",
        " 117,\n",
        " 118,\n",
        " 119,\n",
        " 120,\n",
        " 121,\n",
        " 122,\n",
        " 123,\n",
        " 124,\n",
        " 125,\n",
        " 126,\n",
        " 127,\n",
        " 8364,\n",
        " 65534,\n",
        " 8218,\n",
        " 402,\n",
        " 8222,\n",
        " 8230,\n",
        " 8224,\n",
        " 8225,\n",
        " 710,\n",
        " 8240,\n",
        " 352,\n",
        " 8249,\n",
        " 338,\n",
        " 65534,\n",
        " 381,\n",
        " 65534,\n",
        " 65534,\n",
        " 8216,\n",
        " 8217,\n",
        " 8220,\n",
        " 8221,\n",
        " 8226,\n",
        " 8211,\n",
        " 8212,\n",
        " 732,\n",
        " 8482,\n",
        " 353,\n",
        " 8250,\n",
        " 339,\n",
        " 65534,\n",
        " 382,\n",
        " 376,\n",
        " 160,\n",
        " 161,\n",
        " 162,\n",
        " 163,\n",
        " 164,\n",
        " 165,\n",
        " 166,\n",
        " 167,\n",
        " 168,\n",
        " 169,\n",
        " 170,\n",
        " 171,\n",
        " 172,\n",
        " 173,\n",
        " 174,\n",
        " 175,\n",
        " 176,\n",
        " 177,\n",
        " 178,\n",
        " 179,\n",
        " 180,\n",
        " 181,\n",
        " 182,\n",
        " 183,\n",
        " 184,\n",
        " 185,\n",
        " 186,\n",
        " 187,\n",
        " 188,\n",
        " 189,\n",
        " 190,\n",
        " 191,\n",
        " 192,\n",
        " 193,\n",
        " 194,\n",
        " 195,\n",
        " 196,\n",
        " 197,\n",
        " 198,\n",
        " 199,\n",
        " 200,\n",
        " 201,\n",
        " 202,\n",
        " 203,\n",
        " 204,\n",
        " 205,\n",
        " 206,\n",
        " 207,\n",
        " 208,\n",
        " 209,\n",
        " 210,\n",
        " 211,\n",
        " 212,\n",
        " 213,\n",
        " 214,\n",
        " 215,\n",
        " 216,\n",
        " 217,\n",
        " 218,\n",
        " 219,\n",
        " 220,\n",
        " 221,\n",
        " 222,\n",
        " 223,\n",
        " 224,\n",
        " 225,\n",
        " 226,\n",
        " 227,\n",
        " 228,\n",
        " 229,\n",
        " 230,\n",
        " 231,\n",
        " 232,\n",
        " 233,\n",
        " 234,\n",
        " 235,\n",
        " 236,\n",
        " 237,\n",
        " 238,\n",
        " 239,\n",
        " 240,\n",
        " 241,\n",
        " 242,\n",
        " 243,\n",
        " 244,\n",
        " 245,\n",
        " 246,\n",
        " 247,\n",
        " 248,\n",
        " 249,\n",
        " 250,\n",
        " 251,\n",
        " 252,\n",
        " 253,\n",
        " 254,\n",
        " 255]"
       ]
      }
     ],
     "prompt_number": 30
    },
    {
     "cell_type": "code",
     "collapsed": false,
     "input": [
      "[ord(cp1252.encoding_table[ord(\"\u20ac\")]) for i in range(256)]"
     ],
     "language": "python",
     "metadata": {},
     "outputs": [
      {
       "ename": "TypeError",
       "evalue": "'EncodingMap' object is not subscriptable",
       "output_type": "pyerr",
       "traceback": [
        "\u001b[0;31m---------------------------------------------------------------------------\u001b[0m\n\u001b[0;31mTypeError\u001b[0m                                 Traceback (most recent call last)",
        "\u001b[0;32m<ipython-input-41-ee6b7ae30a42>\u001b[0m in \u001b[0;36m<module>\u001b[0;34m()\u001b[0m\n\u001b[0;32m----> 1\u001b[0;31m \u001b[0;34m[\u001b[0m\u001b[0mord\u001b[0m\u001b[0;34m(\u001b[0m\u001b[0mcp1252\u001b[0m\u001b[0;34m.\u001b[0m\u001b[0mencoding_table\u001b[0m\u001b[0;34m[\u001b[0m\u001b[0mord\u001b[0m\u001b[0;34m(\u001b[0m\u001b[0;34m\"\u20ac\"\u001b[0m\u001b[0;34m)\u001b[0m\u001b[0;34m]\u001b[0m\u001b[0;34m)\u001b[0m \u001b[0;32mfor\u001b[0m \u001b[0mi\u001b[0m \u001b[0;32min\u001b[0m \u001b[0mrange\u001b[0m\u001b[0;34m(\u001b[0m\u001b[0;36m256\u001b[0m\u001b[0;34m)\u001b[0m\u001b[0;34m]\u001b[0m\u001b[0;34m\u001b[0m\u001b[0m\n\u001b[0m",
        "\u001b[0;32m<ipython-input-41-ee6b7ae30a42>\u001b[0m in \u001b[0;36m<listcomp>\u001b[0;34m(.0)\u001b[0m\n\u001b[0;32m----> 1\u001b[0;31m \u001b[0;34m[\u001b[0m\u001b[0mord\u001b[0m\u001b[0;34m(\u001b[0m\u001b[0mcp1252\u001b[0m\u001b[0;34m.\u001b[0m\u001b[0mencoding_table\u001b[0m\u001b[0;34m[\u001b[0m\u001b[0mord\u001b[0m\u001b[0;34m(\u001b[0m\u001b[0;34m\"\u20ac\"\u001b[0m\u001b[0;34m)\u001b[0m\u001b[0;34m]\u001b[0m\u001b[0;34m)\u001b[0m \u001b[0;32mfor\u001b[0m \u001b[0mi\u001b[0m \u001b[0;32min\u001b[0m \u001b[0mrange\u001b[0m\u001b[0;34m(\u001b[0m\u001b[0;36m256\u001b[0m\u001b[0;34m)\u001b[0m\u001b[0;34m]\u001b[0m\u001b[0;34m\u001b[0m\u001b[0m\n\u001b[0m",
        "\u001b[0;31mTypeError\u001b[0m: 'EncodingMap' object is not subscriptable"
       ]
      }
     ],
     "prompt_number": 41
    },
    {
     "cell_type": "code",
     "collapsed": false,
     "input": [
      "dir(cp1252.encoding_table)"
     ],
     "language": "python",
     "metadata": {},
     "outputs": [
      {
       "metadata": {},
       "output_type": "pyout",
       "prompt_number": 35,
       "text": [
        "['__class__',\n",
        " '__delattr__',\n",
        " '__dir__',\n",
        " '__doc__',\n",
        " '__eq__',\n",
        " '__format__',\n",
        " '__ge__',\n",
        " '__getattribute__',\n",
        " '__gt__',\n",
        " '__hash__',\n",
        " '__init__',\n",
        " '__le__',\n",
        " '__lt__',\n",
        " '__ne__',\n",
        " '__new__',\n",
        " '__reduce__',\n",
        " '__reduce_ex__',\n",
        " '__repr__',\n",
        " '__setattr__',\n",
        " '__sizeof__',\n",
        " '__str__',\n",
        " '__subclasshook__',\n",
        " 'size']"
       ]
      }
     ],
     "prompt_number": 35
    },
    {
     "cell_type": "code",
     "collapsed": false,
     "input": [
      "help(cp1252.encoding_table)"
     ],
     "language": "python",
     "metadata": {},
     "outputs": [
      {
       "output_type": "stream",
       "stream": "stdout",
       "text": [
        "Help on EncodingMap object:\n",
        "\n",
        "class EncodingMap(object)\n",
        " |  Methods defined here:\n",
        " |  \n",
        " |  size(...)\n",
        " |      Return the size (in bytes) of this object\n",
        "\n"
       ]
      }
     ],
     "prompt_number": 36
    },
    {
     "cell_type": "code",
     "collapsed": false,
     "input": [],
     "language": "python",
     "metadata": {},
     "outputs": []
    }
   ],
   "metadata": {}
  }
 ]
}
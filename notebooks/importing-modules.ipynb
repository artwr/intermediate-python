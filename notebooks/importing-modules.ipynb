{
 "metadata": {
  "name": ""
 },
 "nbformat": 3,
 "nbformat_minor": 0,
 "worksheets": [
  {
   "cells": [
    {
     "cell_type": "markdown",
     "metadata": {},
     "source": [
      "#### PRE-RELEASE REVIEW: O'Reilly Intermediate Python Video Series\n",
      "#### Topic: Importing Modules \n",
      "Source located in `nbsource/importing-modules.ipynb`. Automatically rendered from `UNKNOWN` on 2014-03-21 at 10:21:36.495234.\n",
      "#### AUTOMATICALLY GENERATED TEST NOTEBOOK - CHANGES WILL BE LOST\n",
      "#### To TEST this Notebook<br />1. select Cell | Run All, or step through with Shift/Enter<br />2. Notebook turns pink when testing starts<br />3. It turns white when the it runs to completion.<br />4. Please check the executed notebook for clarity and correctness.<br />Please [raise an issue](https://github.com/holdenweb/intermediate-python/issues) about anything you don't understand - by all means attach a saved copy of the notebook to add explanations or questions. Also please let us know about stuff you want to see covered under any heading in the outline.\n",
      "#### Your comments on the content are also welcome, particularly when [reported as issues](https://github.com/holdenweb/intermediate-python/issues)"
     ]
    },
    {
     "cell_type": "heading",
     "level": 1,
     "metadata": {},
     "source": [
      "<img src=\"https://dl.dropboxusercontent.com/u/6117375/intermediate-notebooks/title_graphic.png\" />\n",
      "||| WORKING COPY ||| Importing Modules"
     ]
    },
    {
     "cell_type": "markdown",
     "metadata": {},
     "source": [
      "Remember that the built-in `dir()` function reports on the contents of namespaces."
     ]
    },
    {
     "cell_type": "code",
     "collapsed": false,
     "input": [
      "dir()"
     ],
     "language": "python",
     "metadata": {},
     "outputs": [
      {
       "metadata": {},
       "output_type": "pyout",
       "prompt_number": 2,
       "text": [
        "['In',\n",
        " 'Out',\n",
        " '_',\n",
        " '__',\n",
        " '___',\n",
        " '__builtin__',\n",
        " '__builtins__',\n",
        " '__doc__',\n",
        " '__name__',\n",
        " '_dh',\n",
        " '_i',\n",
        " '_i1',\n",
        " '_i2',\n",
        " '_ih',\n",
        " '_ii',\n",
        " '_iii',\n",
        " '_oh',\n",
        " '_sh',\n",
        " 'exit',\n",
        " 'get_ipython',\n",
        " 'quit']"
       ]
      }
     ],
     "prompt_number": 2
    },
    {
     "cell_type": "markdown",
     "metadata": {},
     "source": [
      "Because the IPython Notebook carries a bit of baggage with it, let's shorten the output somewhat by omitting all names beginning with an underscore. That way it will be easier to see what's going on. (For extra points, write a function to do this)."
     ]
    },
    {
     "cell_type": "code",
     "collapsed": false,
     "input": [
      "[x for x in dir() if not x.startswith(\"_\")]"
     ],
     "language": "python",
     "metadata": {},
     "outputs": [
      {
       "metadata": {},
       "output_type": "pyout",
       "prompt_number": 3,
       "text": [
        "['In', 'Out', 'exit', 'get_ipython', 'quit']"
       ]
      }
     ],
     "prompt_number": 3
    },
    {
     "cell_type": "markdown",
     "metadata": {},
     "source": [
      "When you import a module, the first thing the interpreter does is look in a dict called `sys.modules`, which indexes by name each module that has already been imported. If an entry is found then that module is bound (in the namespace in which the `import` statement was executed) to the module.\n",
      "\n",
      "In other words, under normal operations _the code of a module is executed only once, when it is first imported_. The act of importing it creates an entry in `sys.modules` that is used to avoid repeated execution of the code. and leaves behind a name, bound to the module for future reference.\n",
      "\n",
      "The `%%file` line is not Python, but a \"magic\" command to the IPython Notebook to put the rest of the cell into the named file (where it can be imported)."
     ]
    },
    {
     "cell_type": "code",
     "collapsed": false,
     "input": [
      "%%file mod_simple.py\n",
      "\"\"\"This is a simple module to demonstrate the import mechanism.\n",
      "It contains a function definition and a print statement that will\n",
      "cause output to appear when the module's code is executed.\"\"\"\n",
      "\n",
      "def f_simple(s):\n",
      "    line = \"-\"*len(s)\n",
      "    return \"\\n\".join([line, s, line])\n",
      "\n",
      "print(f_simple(\"This is a test string\"))"
     ],
     "language": "python",
     "metadata": {},
     "outputs": [
      {
       "output_type": "stream",
       "stream": "stdout",
       "text": [
        "Overwriting mod_simple.py\n"
       ]
      }
     ],
     "prompt_number": 4
    },
    {
     "cell_type": "code",
     "collapsed": false,
     "input": [
      "import sys"
     ],
     "language": "python",
     "metadata": {},
     "outputs": [],
     "prompt_number": 5
    },
    {
     "cell_type": "markdown",
     "metadata": {},
     "source": [
      "So now we have created a module, let's import it and see what we get."
     ]
    },
    {
     "cell_type": "code",
     "collapsed": false,
     "input": [
      "import mod_simple"
     ],
     "language": "python",
     "metadata": {},
     "outputs": [
      {
       "output_type": "stream",
       "stream": "stdout",
       "text": [
        "---------------------\n",
        "This is a test string\n",
        "---------------------\n"
       ]
      }
     ],
     "prompt_number": 6
    },
    {
     "cell_type": "markdown",
     "metadata": {},
     "source": [
      "The output demonstrates that the code in the module has been executed. The name `mod_simple` is now defined in the local namespace, and refers to the imported module. I also print the module's `id()` so we can identify the object uniquely."
     ]
    },
    {
     "cell_type": "code",
     "collapsed": false,
     "input": [
      "mod_simple, sys.modules[\"mod_simple\"], id(mod_simple)"
     ],
     "language": "python",
     "metadata": {},
     "outputs": [
      {
       "metadata": {},
       "output_type": "pyout",
       "prompt_number": 7,
       "text": [
        "(<module 'mod_simple' from './mod_simple.py'>,\n",
        " <module 'mod_simple' from './mod_simple.py'>,\n",
        " 4361167000)"
       ]
      }
     ],
     "prompt_number": 7
    },
    {
     "cell_type": "markdown",
     "metadata": {},
     "source": [
      "So what happens when we import the module again?"
     ]
    },
    {
     "cell_type": "code",
     "collapsed": false,
     "input": [
      "import mod_simple\n",
      "id(mod_simple)"
     ],
     "language": "python",
     "metadata": {},
     "outputs": [
      {
       "metadata": {},
       "output_type": "pyout",
       "prompt_number": 8,
       "text": [
        "4361167000"
       ]
      }
     ],
     "prompt_number": 8
    },
    {
     "cell_type": "markdown",
     "metadata": {},
     "source": [
      "Nothing at all! The module was already present in `sys.modules` so its code was't executed, and `mod_simple` is still bound to the same module. Even if we delete the `mod_simple` name from our namespace and re-import the module the code still isn't executed again."
     ]
    },
    {
     "cell_type": "code",
     "collapsed": false,
     "input": [
      "del mod_simple\n",
      "import mod_simple\n",
      "mod_simple, id(mod_simple)"
     ],
     "language": "python",
     "metadata": {},
     "outputs": [
      {
       "metadata": {},
       "output_type": "pyout",
       "prompt_number": 9,
       "text": [
        "(<module 'mod_simple' from './mod_simple.py'>, 4361167000)"
       ]
      }
     ],
     "prompt_number": 9
    },
    {
     "cell_type": "markdown",
     "metadata": {},
     "source": [
      "If you manually remove entry in `sys.modules` this finally causes the module to be executed again. The `id()` shows that a new module object has been created. Note that should you need to force reloading of a module this is __not__ the recommended way. It does, however, demonstrate the interpreter's decision-making process."
     ]
    },
    {
     "cell_type": "code",
     "collapsed": false,
     "input": [
      "del sys.modules['mod_simple']\n",
      "import mod_simple\n",
      "mod_simple, id(mod_simple)"
     ],
     "language": "python",
     "metadata": {},
     "outputs": [
      {
       "output_type": "stream",
       "stream": "stdout",
       "text": [
        "---------------------\n",
        "This is a test string\n",
        "---------------------\n"
       ]
      },
      {
       "metadata": {},
       "output_type": "pyout",
       "prompt_number": 10,
       "text": [
        "(<module 'mod_simple' from './mod_simple.py'>, 4388852080)"
       ]
      }
     ],
     "prompt_number": 10
    },
    {
     "cell_type": "code",
     "collapsed": false,
     "input": [
      "%%file mod_simple.py\n",
      "\"\"\"This is a simple module to demonstrate the import mechanism.\n",
      "It contains a function definition and a print statement that will\n",
      "cause output to appear when the module's code is executed.\n",
      "\n",
      "This version has been modified to use stars not minus signs.\"\"\"\n",
      "\n",
      "def f_simple(s):\n",
      "    line = \"*\"*len(s)\n",
      "    return \"\\n\".join([line, s, line])\n",
      "\n",
      "print(f_simple(\"This is a test string\"))"
     ],
     "language": "python",
     "metadata": {},
     "outputs": [
      {
       "output_type": "stream",
       "stream": "stdout",
       "text": [
        "Overwriting mod_simple.py\n"
       ]
      }
     ],
     "prompt_number": 11
    },
    {
     "cell_type": "code",
     "collapsed": false,
     "input": [
      "del sys.modules['mod_simple']\n",
      "import mod_simple\n",
      "mod_simple, id(mod_simple)"
     ],
     "language": "python",
     "metadata": {},
     "outputs": [
      {
       "output_type": "stream",
       "stream": "stdout",
       "text": [
        "*********************\n",
        "This is a test string\n",
        "*********************\n"
       ]
      },
      {
       "metadata": {},
       "output_type": "pyout",
       "prompt_number": 12,
       "text": [
        "(<module 'mod_simple' from './mod_simple.py'>, 4388845184)"
       ]
      }
     ],
     "prompt_number": 12
    },
    {
     "cell_type": "code",
     "collapsed": false,
     "input": [
      "[x for x in dir() if x[0]!=\"_\"]"
     ],
     "language": "python",
     "metadata": {},
     "outputs": [
      {
       "metadata": {},
       "output_type": "pyout",
       "prompt_number": 13,
       "text": [
        "['In', 'Out', 'exit', 'get_ipython', 'mod_simple', 'quit', 'sys']"
       ]
      }
     ],
     "prompt_number": 13
    },
    {
     "cell_type": "code",
     "collapsed": false,
     "input": [],
     "language": "python",
     "metadata": {},
     "outputs": [],
     "prompt_number": 13
    },
    {
     "cell_type": "code",
     "collapsed": false,
     "input": [
      "[x for x in dir(mod_simple) if x[0]!=\"_\"]"
     ],
     "language": "python",
     "metadata": {},
     "outputs": [
      {
       "metadata": {},
       "output_type": "pyout",
       "prompt_number": 14,
       "text": [
        "['f_simple']"
       ]
      }
     ],
     "prompt_number": 14
    },
    {
     "cell_type": "code",
     "collapsed": false,
     "input": [
      "mod_simple.f_simple"
     ],
     "language": "python",
     "metadata": {},
     "outputs": [
      {
       "metadata": {},
       "output_type": "pyout",
       "prompt_number": 15,
       "text": [
        "<function mod_simple.f_simple>"
       ]
      }
     ],
     "prompt_number": 15
    },
    {
     "cell_type": "code",
     "collapsed": false,
     "input": [
      "[x for x in dir() if not x.startswith(\"_\")]"
     ],
     "language": "python",
     "metadata": {},
     "outputs": [
      {
       "metadata": {},
       "output_type": "pyout",
       "prompt_number": 17,
       "text": [
        "['In', 'Out', 'exit', 'get_ipython', 'mod_simple', 'quit', 'sys']"
       ]
      }
     ],
     "prompt_number": 17
    },
    {
     "cell_type": "code",
     "collapsed": false,
     "input": [],
     "language": "python",
     "metadata": {},
     "outputs": [],
     "prompt_number": 18
    },
    {
     "cell_type": "code",
     "collapsed": false,
     "input": [],
     "language": "python",
     "metadata": {},
     "outputs": [],
     "prompt_number": 16
    },
    {
     "cell_type": "code",
     "collapsed": false,
     "input": [],
     "language": "python",
     "metadata": {},
     "outputs": []
    }
   ],
   "metadata": {}
  }
 ]
}
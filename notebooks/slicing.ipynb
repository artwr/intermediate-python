{
 "metadata": {
  "name": ""
 },
 "nbformat": 3,
 "nbformat_minor": 0,
 "worksheets": [
  {
   "cells": [
    {
     "cell_type": "markdown",
     "metadata": {},
     "source": [
      "#### PRE-RELEASE REVIEW: O'Reilly Intermediate Python Video Series\n",
      "#### Topic: Slicing \n",
      "Source located in `nbsource/slicing.ipynb`. Automatically rendered from `UNKNOWN` on 2014-03-21 at 10:21:36.460659.\n",
      "#### AUTOMATICALLY GENERATED TEST NOTEBOOK - CHANGES WILL BE LOST\n",
      "#### To TEST this Notebook<br />1. select Cell | Run All, or step through with Shift/Enter<br />2. Notebook turns pink when testing starts<br />3. It turns white when the it runs to completion.<br />4. Please check the executed notebook for clarity and correctness.<br />Please [raise an issue](https://github.com/holdenweb/intermediate-python/issues) about anything you don't understand - by all means attach a saved copy of the notebook to add explanations or questions. Also please let us know about stuff you want to see covered under any heading in the outline.\n",
      "#### Your comments on the content are also welcome, particularly when [reported as issues](https://github.com/holdenweb/intermediate-python/issues)"
     ]
    },
    {
     "cell_type": "heading",
     "level": 1,
     "metadata": {},
     "source": [
      "<img src=\"https://dl.dropboxusercontent.com/u/6117375/intermediate-notebooks/title_graphic.png\" />\n",
      "||| WORKING COPY ||| Slicing"
     ]
    },
    {
     "cell_type": "heading",
     "level": 2,
     "metadata": {},
     "source": [
      "Slicing Sequences"
     ]
    },
    {
     "cell_type": "markdown",
     "metadata": {},
     "source": [
      "You have seen indexing used to extract individual elements from strings, lists and tuples. Sometimes, though, you want to extract a little more than a single element, and that's where slicing comes in.\n",
      "\n",
      "Slicing uses a special syntax for the indexing expression that goes between the square brackets, and slicing any sequence always returns a sequence of the same type. Note that the expression on the last line of the next cell is a tuple (three individual element values separated by commas), which is why the values are printed in parentheses and separated with commas."
     ]
    },
    {
     "cell_type": "code",
     "collapsed": false,
     "input": [
      "s, t, lst = \"0123456789\"[:], ('one', 'two', 'three')[:] , [1, 2, 3, 4][:]\n",
      "s, lst, t"
     ],
     "language": "python",
     "metadata": {},
     "outputs": [
      {
       "metadata": {},
       "output_type": "pyout",
       "prompt_number": 1,
       "text": [
        "('0123456789', [1, 2, 3, 4], ('one', 'two', 'three'))"
       ]
      }
     ],
     "prompt_number": 1
    },
    {
     "cell_type": "markdown",
     "metadata": {},
     "source": [
      "You can see that just putting a semicolon as the subscripting expression returns the whole sequence. Sometimes it's important to know that even under these circumstance _for mutable types_ slicing returns a new object copied from the original. You can confirm this by use of Python's [`id()` built-in function](http://docs.python.org/2/library/functions.html#id).\n",
      "\n",
      "If you think about it you will realize that there is no harm in the slice using the same object as the result of the slicing operation for immutable types. Since the object cannot change, it does not matter. But a slicing operation promises you _your own copy of the data at the time the slice was taken_, which is why a new list is created even when all elements are included in the slice. If the source list later changes, your copy is insulated from those changes. Changes can't happen to immutable values."
     ]
    },
    {
     "cell_type": "code",
     "collapsed": false,
     "input": [
      "id(s)==id(s[:]), id(t)==id(t[:]), id(lst)==id(lst[:])"
     ],
     "language": "python",
     "metadata": {},
     "outputs": [
      {
       "metadata": {},
       "output_type": "pyout",
       "prompt_number": 2,
       "text": [
        "(True, True, False)"
       ]
      }
     ],
     "prompt_number": 2
    },
    {
     "cell_type": "markdown",
     "metadata": {},
     "source": [
      "In normal use the colon separates two index values. In the special case you saw above both indexes are omitted. Omitting the first index implies the slices should start at the beginning of the sliced sequence, omitting the second implies the slice should end at the end of the sliced string. When both are omitted, therefore, our result contains all the elements of the sliced sequence.\n",
      "\n",
      "This is true for any sequence type - the built-in sequence types are strings, tuples and lists, though of course you can define your own as well.\n",
      "\n",
      "Because Python sequences number their elements from zero, `x[:]` is equivalent to `x[0:len(x)]`."
     ]
    },
    {
     "cell_type": "code",
     "collapsed": false,
     "input": [
      "s[0:len(s)], t[0:len(t)], lst[0:len(lst)]"
     ],
     "language": "python",
     "metadata": {},
     "outputs": [
      {
       "metadata": {},
       "output_type": "pyout",
       "prompt_number": 3,
       "text": [
        "('0123456789', ('one', 'two', 'three'), [1, 2, 3, 4])"
       ]
      }
     ],
     "prompt_number": 3
    },
    {
     "cell_type": "markdown",
     "metadata": {},
     "source": [
      "Note that len(lst) is not a valid index for the list when you are attempting to extract a single value: the elements are numbered from 0 to len(lst)-1. Attempts to go further are met with disapproval.\n",
      "\n",
      "    >>> lst[len(lst)]\n",
      "    ---------------------------------------------------------------------------\n",
      "    IndexError                                Traceback (most recent call last)\n",
      "    <ipython-input-5-f88b03e5c60e> in <module>()\n",
      "    ----> 1 lst[len(lst)]\n",
      "\n",
      "    IndexError: list index out of range"
     ]
    },
    {
     "cell_type": "markdown",
     "metadata": {},
     "source": [
      "You can think of the second index in a slice as _the index of the first item excluded from the slice_. Beginners often wonder why Python chose this way of addressing slices, and the reson is arithmetical consistency. When you use `[m:n]` to index a sequence then the length of the resulting subsequence is `n-m`, keeping the slice index values relatively easy to compute."
     ]
    },
    {
     "cell_type": "code",
     "collapsed": false,
     "input": [
      "s[4:7], len(s[4:7])"
     ],
     "language": "python",
     "metadata": {},
     "outputs": [
      {
       "metadata": {},
       "output_type": "pyout",
       "prompt_number": 4,
       "text": [
        "('456', 3)"
       ]
      }
     ],
     "prompt_number": 4
    },
    {
     "cell_type": "markdown",
     "metadata": {},
     "source": [
      "Another advantage of the chosen way is that for any sequence `s` and any valid index `n` the following equivalence holds true:\n",
      "\n",
      "    s[:n] + s[n:] == s"
     ]
    },
    {
     "cell_type": "code",
     "collapsed": false,
     "input": [
      "for sequence in s, t, lst:\n",
      "    for n in range(len(sequence)):\n",
      "        print(n, sequence, \"||\", sequence[:n], \"|\", sequence[n:])"
     ],
     "language": "python",
     "metadata": {},
     "outputs": [
      {
       "output_type": "stream",
       "stream": "stdout",
       "text": [
        "0 0123456789 ||  | 0123456789\n",
        "1 0123456789 || 0 | 123456789\n",
        "2 0123456789 || 01 | 23456789\n",
        "3 0123456789 || 012 | 3456789\n",
        "4 0123456789 || 0123 | 456789\n",
        "5 0123456789 || 01234 | 56789\n",
        "6 0123456789 || 012345 | 6789\n",
        "7 0123456789 || 0123456 | 789\n",
        "8 0123456789 || 01234567 | 89\n",
        "9 0123456789 || 012345678 | 9\n",
        "0 ('one', 'two', 'three') || () | ('one', 'two', 'three')\n",
        "1 ('one', 'two', 'three') || ('one',) | ('two', 'three')\n",
        "2 ('one', 'two', 'three') || ('one', 'two') | ('three',)\n",
        "0 [1, 2, 3, 4] || [] | [1, 2, 3, 4]\n",
        "1 [1, 2, 3, 4] || [1] | [2, 3, 4]\n",
        "2 [1, 2, 3, 4] || [1, 2] | [3, 4]\n",
        "3 [1, 2, 3, 4] || [1, 2, 3] | [4]\n"
       ]
      }
     ],
     "prompt_number": 5
    },
    {
     "cell_type": "markdown",
     "metadata": {},
     "source": [
      "Note that Python is much more forgiving about slice indexes than it is about single indexes, where as you saw above, going outside the boundaries of the container causes the interpreter to raise an `IndexError` exception. If a slicing index goes past the end of the sequence this is silently treated as though it referred to the end of the sequence."
     ]
    },
    {
     "cell_type": "code",
     "collapsed": false,
     "input": [
      "s[:1000], s[1000:]"
     ],
     "language": "python",
     "metadata": {},
     "outputs": [
      {
       "metadata": {},
       "output_type": "pyout",
       "prompt_number": 6,
       "text": [
        "('0123456789', '')"
       ]
      }
     ],
     "prompt_number": 6
    },
    {
     "cell_type": "heading",
     "level": 2,
     "metadata": {},
     "source": [
      "Negative Indexes"
     ]
    },
    {
     "cell_type": "markdown",
     "metadata": {},
     "source": [
      "When a negative index `-n` is used to index a sequence `s` it is treated as though the actual index value were `len(s)-n`."
     ]
    },
    {
     "cell_type": "code",
     "collapsed": false,
     "input": [
      "print(s)\n",
      "for i in range(1, len(s)):\n",
      "    print(i,\":\",  s[-i], s[len(s)-i])"
     ],
     "language": "python",
     "metadata": {},
     "outputs": [
      {
       "output_type": "stream",
       "stream": "stdout",
       "text": [
        "0123456789\n",
        "1 : 9 9\n",
        "2 : 8 8\n",
        "3 : 7 7\n",
        "4 : 6 6\n",
        "5 : 5 5\n",
        "6 : 4 4\n",
        "7 : 3 3\n",
        "8 : 2 2\n",
        "9 : 1 1\n"
       ]
      }
     ],
     "prompt_number": 7
    },
    {
     "cell_type": "markdown",
     "metadata": {},
     "source": [
      "Note here that we chose not to include the value `0` in the range for `i` because while `0` is a valid index for `s`, `len(s)` is not as you saw above. While the positive range of subscripts goes from `0` to `len(s)-1`, the allowable negative index range goes from `-1` to `-len(s)` (or the other way around if you want to move from the first element to the last).\n",
      "\n",
      "If you are wondering why the negative indexes don't start at zero the simple answer is that `-0` is the same as `0` which already has a meaning as an index and anyway isn't negative! "
     ]
    },
    {
     "cell_type": "code",
     "collapsed": false,
     "input": [
      "s[-len(s)]"
     ],
     "language": "python",
     "metadata": {},
     "outputs": [
      {
       "metadata": {},
       "output_type": "pyout",
       "prompt_number": 8,
       "text": [
        "'0'"
       ]
      }
     ],
     "prompt_number": 8
    },
    {
     "cell_type": "markdown",
     "metadata": {},
     "source": [
      "Negative indices have their role in slicing too."
     ]
    },
    {
     "cell_type": "code",
     "collapsed": false,
     "input": [
      "s[-5]"
     ],
     "language": "python",
     "metadata": {},
     "outputs": [
      {
       "metadata": {},
       "output_type": "pyout",
       "prompt_number": 9,
       "text": [
        "'5'"
       ]
      }
     ],
     "prompt_number": 9
    },
    {
     "cell_type": "code",
     "collapsed": false,
     "input": [
      "s[-5:-1]"
     ],
     "language": "python",
     "metadata": {},
     "outputs": [
      {
       "metadata": {},
       "output_type": "pyout",
       "prompt_number": 10,
       "text": [
        "'5678'"
       ]
      }
     ],
     "prompt_number": 10
    },
    {
     "cell_type": "markdown",
     "metadata": {},
     "source": [
      "Observe that if the first slice index refers to an element further on the right of the sequence than the second element the result is an empty slice."
     ]
    },
    {
     "cell_type": "code",
     "collapsed": false,
     "input": [
      "s[-5:-7]"
     ],
     "language": "python",
     "metadata": {},
     "outputs": [
      {
       "metadata": {},
       "output_type": "pyout",
       "prompt_number": 11,
       "text": [
        "''"
       ]
      }
     ],
     "prompt_number": 11
    },
    {
     "cell_type": "markdown",
     "metadata": {},
     "source": [
      "This might seem less surprising when you rewrite the same expression with the equivalent positive indexes. Remember that `s` is 10 characters long."
     ]
    },
    {
     "cell_type": "code",
     "collapsed": false,
     "input": [
      "s[10-5:10-7], s[5:3]"
     ],
     "language": "python",
     "metadata": {},
     "outputs": [
      {
       "metadata": {},
       "output_type": "pyout",
       "prompt_number": 12,
       "text": [
        "('', '')"
       ]
      }
     ],
     "prompt_number": 12
    },
    {
     "cell_type": "code",
     "collapsed": false,
     "input": [
      "s[-7:9]"
     ],
     "language": "python",
     "metadata": {},
     "outputs": [
      {
       "metadata": {},
       "output_type": "pyout",
       "prompt_number": 31,
       "text": [
        "'345678'"
       ]
      }
     ],
     "prompt_number": 31
    },
    {
     "cell_type": "markdown",
     "metadata": {},
     "source": [
      "The second of the two expressions above is exactly the same as the first, using simple integer indexes rather than the expressions used in the first. Technically you might expect `s[5:3]` to return a string of length -2, but inutitively it's unreasonable to expect strings to have a negative length, so since the beginning of the slice is after the end the result is an empty sequence (in this case the empty string)."
     ]
    },
    {
     "cell_type": "code",
     "collapsed": false,
     "input": [
      "class Indexable():\n",
      "    def __getitem__(self, arg):\n",
      "        print(\"Getitem:\", arg)\n",
      "\n",
      "indexable = Indexable()\n",
      "indexable[2]"
     ],
     "language": "python",
     "metadata": {},
     "outputs": [
      {
       "output_type": "stream",
       "stream": "stdout",
       "text": [
        "Getitem: 2\n"
       ]
      }
     ],
     "prompt_number": 14
    },
    {
     "cell_type": "code",
     "collapsed": false,
     "input": [
      "indexable[1:4]"
     ],
     "language": "python",
     "metadata": {},
     "outputs": [
      {
       "output_type": "stream",
       "stream": "stdout",
       "text": [
        "Getitem: slice(1, 4, None)\n"
       ]
      }
     ],
     "prompt_number": 15
    },
    {
     "cell_type": "code",
     "collapsed": false,
     "input": [
      "slice_object = slice(1, 4, None)\n",
      "for i in range(6):\n",
      "    start, stop, stride = slice_object.indices(i)\n",
      "    print(start, stop, stride, repr(s[start:stop]))"
     ],
     "language": "python",
     "metadata": {},
     "outputs": [
      {
       "output_type": "stream",
       "stream": "stdout",
       "text": [
        "0 0 1 ''\n",
        "1 1 1 ''\n",
        "1 2 1 '1'\n",
        "1 3 1 '12'\n",
        "1 4 1 '123'\n",
        "1 4 1 '123'\n"
       ]
      }
     ],
     "prompt_number": 29
    },
    {
     "cell_type": "code",
     "collapsed": false,
     "input": [],
     "language": "python",
     "metadata": {},
     "outputs": []
    }
   ],
   "metadata": {}
  }
 ]
}
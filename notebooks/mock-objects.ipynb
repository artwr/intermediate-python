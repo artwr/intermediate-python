{
 "metadata": {
  "name": ""
 },
 "nbformat": 3,
 "nbformat_minor": 0,
 "worksheets": [
  {
   "cells": [
    {
     "cell_type": "markdown",
     "metadata": {},
     "source": [
      "#### PRE-RELEASE REVIEW: O'Reilly Intermediate Python Video Series\n",
      "#### Topic: Mock Objects \n",
      "Source located in `nbsource/mock-objects.ipynb`. Automatically rendered from `UNKNOWN` on 2014-03-21 at 00:38:27.390779.\n",
      "#### AUTOMATICALLY GENERATED TEST NOTEBOOK - CHANGES WILL BE LOST\n",
      "#### To TEST this Notebook<br />1. select Cell | Run All, or step through with Shift/Enter<br />2. Notebook turns pink when testing starts<br />3. It turns white when the it runs to completion.<br />4. Please check the executed notebook for clarity and correctness.<br />Please [raise an issue](https://github.com/holdenweb/intermediate-python/issues) about anything you don't understand - by all means attach a saved copy of the notebook to add explanations or questions. Also please let us know about stuff you want to see covered under any heading in the outline.\n",
      "#### Your comments on the content are also welcome, particularly when [reported as issues](https://github.com/holdenweb/intermediate-python/issues)"
     ]
    },
    {
     "cell_type": "heading",
     "level": 1,
     "metadata": {
      "slideshow": {
       "slide_type": "slide"
      }
     },
     "source": [
      "<img src=\"https://dl.dropboxusercontent.com/u/6117375/intermediate-notebooks/title_graphic.png\" />\n",
      "||| WORKING COPY ||| Mock Objects"
     ]
    },
    {
     "cell_type": "code",
     "collapsed": false,
     "input": [
      "from unittest.mock import MagicMock, Mock"
     ],
     "language": "python",
     "metadata": {
      "slideshow": {
       "slide_type": "slide"
      }
     },
     "outputs": [],
     "prompt_number": 14
    },
    {
     "cell_type": "code",
     "collapsed": false,
     "input": [
      "m1 = MagicMock()"
     ],
     "language": "python",
     "metadata": {
      "slideshow": {
       "slide_type": "fragment"
      }
     },
     "outputs": [],
     "prompt_number": 17
    },
    {
     "cell_type": "code",
     "collapsed": false,
     "input": [
      "dir(m1)"
     ],
     "language": "python",
     "metadata": {
      "slideshow": {
       "slide_type": "subslide"
      }
     },
     "outputs": [
      {
       "metadata": {},
       "output_type": "pyout",
       "prompt_number": 18,
       "text": [
        "['__bool__',\n",
        " '__len__',\n",
        " '__str__',\n",
        " 'assert_any_call',\n",
        " 'assert_called_once_with',\n",
        " 'assert_called_with',\n",
        " 'assert_has_calls',\n",
        " 'attach_mock',\n",
        " 'call_args',\n",
        " 'call_args_list',\n",
        " 'call_count',\n",
        " 'called',\n",
        " 'configure_mock',\n",
        " 'getdoc',\n",
        " 'method_calls',\n",
        " 'mock_add_spec',\n",
        " 'mock_calls',\n",
        " 'reset_mock',\n",
        " 'return_value',\n",
        " 'side_effect']"
       ]
      }
     ],
     "prompt_number": 18
    },
    {
     "cell_type": "code",
     "collapsed": false,
     "input": [
      "m1.method(1, 2, 3)"
     ],
     "language": "python",
     "metadata": {},
     "outputs": [
      {
       "metadata": {},
       "output_type": "pyout",
       "prompt_number": 19,
       "text": [
        "<MagicMock name='mock.method()' id='4351433232'>"
       ]
      }
     ],
     "prompt_number": 19
    },
    {
     "cell_type": "code",
     "collapsed": false,
     "input": [
      "m1.attribute"
     ],
     "language": "python",
     "metadata": {},
     "outputs": [
      {
       "metadata": {},
       "output_type": "pyout",
       "prompt_number": 20,
       "text": [
        "<MagicMock name='mock.attribute' id='4351445968'>"
       ]
      }
     ],
     "prompt_number": 20
    },
    {
     "cell_type": "code",
     "collapsed": false,
     "input": [
      "m1.who_knows_what"
     ],
     "language": "python",
     "metadata": {},
     "outputs": [
      {
       "metadata": {},
       "output_type": "pyout",
       "prompt_number": 22,
       "text": [
        "<MagicMock name='mock.who_knows_what' id='4351557008'>"
       ]
      }
     ],
     "prompt_number": 22
    },
    {
     "cell_type": "code",
     "collapsed": false,
     "input": [
      "m1.who_knows_what()"
     ],
     "language": "python",
     "metadata": {},
     "outputs": [
      {
       "metadata": {},
       "output_type": "pyout",
       "prompt_number": 23,
       "text": [
        "<MagicMock name='mock.who_knows_what()' id='4351692176'>"
       ]
      }
     ],
     "prompt_number": 23
    },
    {
     "cell_type": "code",
     "collapsed": false,
     "input": [
      "m1.method_calls"
     ],
     "language": "python",
     "metadata": {},
     "outputs": [
      {
       "metadata": {},
       "output_type": "pyout",
       "prompt_number": 25,
       "text": [
        "[call.getdoc(),\n",
        " call.method.getdoc(),\n",
        " call.method(1, 2, 3),\n",
        " call.trait_names(),\n",
        " call._getAttributeNames(),\n",
        " call.who_knows_what.getdoc(),\n",
        " call.who_knows_what(),\n",
        " call.trait_names(),\n",
        " call._getAttributeNames(),\n",
        " call.trait_names(),\n",
        " call._getAttributeNames()]"
       ]
      }
     ],
     "prompt_number": 25
    },
    {
     "cell_type": "code",
     "collapsed": false,
     "input": [
      "issubclass(Mock, type)"
     ],
     "language": "python",
     "metadata": {},
     "outputs": [
      {
       "metadata": {},
       "output_type": "pyout",
       "prompt_number": 26,
       "text": [
        "False"
       ]
      }
     ],
     "prompt_number": 26
    },
    {
     "cell_type": "code",
     "collapsed": false,
     "input": [
      "m1.method.assert_called_once_with(1, 2, 3)"
     ],
     "language": "python",
     "metadata": {},
     "outputs": [],
     "prompt_number": 29
    },
    {
     "cell_type": "code",
     "collapsed": false,
     "input": [
      "m1.who_knows_what.assert_has_calls()"
     ],
     "language": "python",
     "metadata": {},
     "outputs": [
      {
       "ename": "TypeError",
       "evalue": "assert_has_calls() missing 1 required positional argument: 'calls'",
       "output_type": "pyerr",
       "traceback": [
        "\u001b[0;31m---------------------------------------------------------------------------\u001b[0m\n\u001b[0;31mTypeError\u001b[0m                                 Traceback (most recent call last)",
        "\u001b[0;32m<ipython-input-30-e3162431b6d4>\u001b[0m in \u001b[0;36m<module>\u001b[0;34m()\u001b[0m\n\u001b[0;32m----> 1\u001b[0;31m \u001b[0mm1\u001b[0m\u001b[0;34m.\u001b[0m\u001b[0mwho_knows_what\u001b[0m\u001b[0;34m.\u001b[0m\u001b[0massert_has_calls\u001b[0m\u001b[0;34m(\u001b[0m\u001b[0;34m)\u001b[0m\u001b[0;34m\u001b[0m\u001b[0m\n\u001b[0m",
        "\u001b[0;31mTypeError\u001b[0m: assert_has_calls() missing 1 required positional argument: 'calls'"
       ]
      }
     ],
     "prompt_number": 30
    },
    {
     "cell_type": "code",
     "collapsed": false,
     "input": [
      "m2 = MagicMock()"
     ],
     "language": "python",
     "metadata": {},
     "outputs": [],
     "prompt_number": 31
    },
    {
     "cell_type": "code",
     "collapsed": false,
     "input": [
      "next(m2)"
     ],
     "language": "python",
     "metadata": {},
     "outputs": [
      {
       "metadata": {},
       "output_type": "pyout",
       "prompt_number": 32,
       "text": [
        "<MagicMock name='mock.__next__()' id='4351887888'>"
       ]
      }
     ],
     "prompt_number": 32
    },
    {
     "cell_type": "code",
     "collapsed": false,
     "input": [
      "m2.method_calls"
     ],
     "language": "python",
     "metadata": {},
     "outputs": [
      {
       "metadata": {},
       "output_type": "pyout",
       "prompt_number": 35,
       "text": [
        "[call.trait_names(),\n",
        " call._getAttributeNames(),\n",
        " call.trait_names(),\n",
        " call._getAttributeNames(),\n",
        " call.trait_names(),\n",
        " call._getAttributeNames(),\n",
        " call.trait_names(),\n",
        " call._getAttributeNames(),\n",
        " call.trait_names(),\n",
        " call._getAttributeNames()]"
       ]
      }
     ],
     "prompt_number": 35
    },
    {
     "cell_type": "code",
     "collapsed": false,
     "input": [
      "m2.mock_calls"
     ],
     "language": "python",
     "metadata": {},
     "outputs": [
      {
       "metadata": {},
       "output_type": "pyout",
       "prompt_number": 38,
       "text": [
        "[call.__next__(),\n",
        " call.trait_names(),\n",
        " call.trait_names().__iter__(),\n",
        " call._getAttributeNames(),\n",
        " call._getAttributeNames().__iter__(),\n",
        " call.trait_names(),\n",
        " call.trait_names().__iter__(),\n",
        " call._getAttributeNames(),\n",
        " call._getAttributeNames().__iter__(),\n",
        " call.trait_names(),\n",
        " call.trait_names().__iter__(),\n",
        " call._getAttributeNames(),\n",
        " call._getAttributeNames().__iter__(),\n",
        " call.trait_names(),\n",
        " call.trait_names().__iter__(),\n",
        " call._getAttributeNames(),\n",
        " call._getAttributeNames().__iter__(),\n",
        " call.trait_names(),\n",
        " call.trait_names().__iter__(),\n",
        " call._getAttributeNames(),\n",
        " call._getAttributeNames().__iter__(),\n",
        " call.trait_names(),\n",
        " call.trait_names().__iter__(),\n",
        " call._getAttributeNames(),\n",
        " call._getAttributeNames().__iter__(),\n",
        " call.trait_names(),\n",
        " call.trait_names().__iter__(),\n",
        " call._getAttributeNames(),\n",
        " call._getAttributeNames().__iter__()]"
       ]
      }
     ],
     "prompt_number": 38
    },
    {
     "cell_type": "code",
     "collapsed": false,
     "input": [],
     "language": "python",
     "metadata": {},
     "outputs": []
    },
    {
     "cell_type": "code",
     "collapsed": false,
     "input": [],
     "language": "python",
     "metadata": {},
     "outputs": []
    },
    {
     "cell_type": "code",
     "collapsed": false,
     "input": [],
     "language": "python",
     "metadata": {},
     "outputs": []
    },
    {
     "cell_type": "code",
     "collapsed": false,
     "input": [],
     "language": "python",
     "metadata": {},
     "outputs": []
    },
    {
     "cell_type": "heading",
     "level": 6,
     "metadata": {},
     "source": [
      "Advanced Stuff for extended sessions or whatever"
     ]
    },
    {
     "cell_type": "code",
     "collapsed": false,
     "input": [
      "class Mocking(metclass=Mock):\n",
      "    pass"
     ],
     "language": "python",
     "metadata": {},
     "outputs": [
      {
       "ename": "TypeError",
       "evalue": "type() takes 1 or 3 arguments",
       "output_type": "pyerr",
       "traceback": [
        "\u001b[0;31m---------------------------------------------------------------------------\u001b[0m\n\u001b[0;31mTypeError\u001b[0m                                 Traceback (most recent call last)",
        "\u001b[0;32m<ipython-input-28-856e039906f1>\u001b[0m in \u001b[0;36m<module>\u001b[0;34m()\u001b[0m\n\u001b[0;32m----> 1\u001b[0;31m \u001b[0;32mclass\u001b[0m \u001b[0mMocking\u001b[0m\u001b[0;34m(\u001b[0m\u001b[0mmetclass\u001b[0m\u001b[0;34m=\u001b[0m\u001b[0mMock\u001b[0m\u001b[0;34m)\u001b[0m\u001b[0;34m:\u001b[0m\u001b[0;34m\u001b[0m\u001b[0m\n\u001b[0m\u001b[1;32m      2\u001b[0m     \u001b[0;32mpass\u001b[0m\u001b[0;34m\u001b[0m\u001b[0m\n",
        "\u001b[0;31mTypeError\u001b[0m: type() takes 1 or 3 arguments"
       ]
      }
     ],
     "prompt_number": 28
    },
    {
     "cell_type": "code",
     "collapsed": false,
     "input": [
      "[n for n in dir(MagicMock) if n not in dir(Mock)]"
     ],
     "language": "python",
     "metadata": {},
     "outputs": [
      {
       "metadata": {},
       "output_type": "pyout",
       "prompt_number": 15,
       "text": [
        "['_mock_set_magics']"
       ]
      }
     ],
     "prompt_number": 15
    },
    {
     "cell_type": "code",
     "collapsed": false,
     "input": [
      "[n for n in dir(Mock) if n not in dir(MagicMock)]"
     ],
     "language": "python",
     "metadata": {},
     "outputs": [
      {
       "metadata": {},
       "output_type": "pyout",
       "prompt_number": 16,
       "text": [
        "[]"
       ]
      }
     ],
     "prompt_number": 16
    },
    {
     "cell_type": "code",
     "collapsed": false,
     "input": [],
     "language": "python",
     "metadata": {},
     "outputs": []
    },
    {
     "cell_type": "code",
     "collapsed": false,
     "input": [],
     "language": "python",
     "metadata": {},
     "outputs": []
    },
    {
     "cell_type": "code",
     "collapsed": false,
     "input": [],
     "language": "python",
     "metadata": {},
     "outputs": []
    },
    {
     "cell_type": "code",
     "collapsed": false,
     "input": [],
     "language": "python",
     "metadata": {},
     "outputs": []
    },
    {
     "cell_type": "markdown",
     "metadata": {},
     "source": [
      "This document was created on 2014-03-14 at 23:32:02.943813."
     ]
    }
   ],
   "metadata": {}
  }
 ]
}
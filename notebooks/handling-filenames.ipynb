{
 "metadata": {
  "name": ""
 },
 "nbformat": 3,
 "nbformat_minor": 0,
 "worksheets": [
  {
   "cells": [
    {
     "cell_type": "markdown",
     "metadata": {},
     "source": [
      "#### PRE-RELEASE REVIEW: O'Reilly Intermediate Python Video Series\n",
      "#### Topic: Handling Filenames \n",
      "Source located in `nbsource/handling-filenames.ipynb`. Automatically rendered from `UNKNOWN` on 2014-03-21 at 10:21:36.532854.\n",
      "#### AUTOMATICALLY GENERATED TEST NOTEBOOK - CHANGES WILL BE LOST\n",
      "#### To TEST this Notebook<br />1. select Cell | Run All, or step through with Shift/Enter<br />2. Notebook turns pink when testing starts<br />3. It turns white when the it runs to completion.<br />4. Please check the executed notebook for clarity and correctness.<br />Please [raise an issue](https://github.com/holdenweb/intermediate-python/issues) about anything you don't understand - by all means attach a saved copy of the notebook to add explanations or questions. Also please let us know about stuff you want to see covered under any heading in the outline.\n",
      "#### Your comments on the content are also welcome, particularly when [reported as issues](https://github.com/holdenweb/intermediate-python/issues)"
     ]
    },
    {
     "cell_type": "heading",
     "level": 2,
     "metadata": {},
     "source": [
      "<img src=\"https://dl.dropboxusercontent.com/u/6117375/intermediate-notebooks/title_graphic.png\" />\n",
      "||| WORKING COPY ||| Handling Filenames"
     ]
    },
    {
     "cell_type": "markdown",
     "metadata": {},
     "source": [
      "Paths can be absolute or relative. An absolute path refers to the same file no matter what the current working directory, whereas a relative path is conditioned by a process's current working directory (a part of the process state).\n",
      "\n",
      "Most UNIX-like systems use the same sorts of path. Everything is rooted, and a part of the same file system, so absolute paths begin with a slash, like `/home/users/sholden`. Relative paths do not, and effectively have the path of the current working directory prepended to them.\n",
      "\n",
      "Under Windows, however, different disk drives appear as different lettered volumes and the path separator is a backslash, so paths look more like `C:\\inetpub\\wwwroot\\`. The current working directory is a combination of drive letter and path.\n",
      "\n",
      "Windows also occasionally uses what are known as _UNC paths_, which begin with a double backslash. The first component is a host, the second is a share name, and the remainder locate a file or directory within the share. Python does not deal well with UNC paths."
     ]
    },
    {
     "cell_type": "markdown",
     "metadata": {},
     "source": [
      "The `os` module is where you find the functionality to handle filenames and paths. It has a submodule (`os.path`) which is loaded dynamically when the `os` module is loaded. Normally you will just use the `os.path` module that `os` chooses for you, but should you wish to handle (say) Windows file paths on a Unix system then you can specifically import the Windows module and use its resources"
     ]
    },
    {
     "cell_type": "code",
     "collapsed": false,
     "input": [
      "import os\n",
      "print(os.getcwd())"
     ],
     "language": "python",
     "metadata": {},
     "outputs": [
      {
       "output_type": "stream",
       "stream": "stdout",
       "text": [
        "/Users/sholden/Projects/Python/intVideos/Project/nbsource\n"
       ]
      }
     ],
     "prompt_number": 1
    },
    {
     "cell_type": "markdown",
     "metadata": {},
     "source": [
      "So `os.getcwd()` returns the working directory path as a string."
     ]
    },
    {
     "cell_type": "code",
     "collapsed": false,
     "input": [
      "os.chdir(\"..\")\n",
      "print(os.getcwd())\n",
      "os.chdir(\"nbsource\")\n",
      "base_dir = os.getcwd()\n",
      "print(base_dir)"
     ],
     "language": "python",
     "metadata": {},
     "outputs": [
      {
       "output_type": "stream",
       "stream": "stdout",
       "text": [
        "/Users/sholden/Projects/Python/intVideos/Project\n",
        "/Users/sholden/Projects/Python/intVideos/Project/nbsource\n"
       ]
      }
     ],
     "prompt_number": 2
    },
    {
     "cell_type": "markdown",
     "metadata": {},
     "source": [
      "You can change the working directory, too. The first line of output shows that the change has been made, but I change it back and thereafter leave it alone. It's best not to mess too much with your process's context."
     ]
    },
    {
     "cell_type": "code",
     "collapsed": false,
     "input": [
      "from glob import glob\n",
      "print(glob(\"*.ipynb\"))"
     ],
     "language": "python",
     "metadata": {},
     "outputs": [
      {
       "output_type": "stream",
       "stream": "stdout",
       "text": [
        "['a-look-at-internal-cpython-interpreter-code.ipynb', 'accessing-ipython-notebook-on-the-cloud.ipynb', 'advanced-slicing.ipynb', 'bits-of-python-history.ipynb', 'bytearrays-and-bytestrings.ipynb', 'callable-instances.ipynb', 'comprehensions-and-generator-expressions.ipynb', 'config-files.ipynb', 'consuming-json-data-from-a-web-service.ipynb', 'data-analysis-modules.ipynb', 'decimal.ipynb', 'decoding-to-unicode.ipynb', 'dict-comprehensions.ipynb', 'dicts-and-sets.ipynb', 'downloading-your-ipython-notebooks.ipynb', 'elementary-sql.ipynb', 'encoding-from-unicode.ipynb', 'europython.ipynb', 'from--import.ipynb', 'functions-as-function-arguments.ipynb', 'generality-of-function-return-values.ipynb', 'generator-expressions.ipynb', 'generators.ipynb', 'goodbye!.ipynb', 'handling-filenames.ipynb', 'how-these-lessons-were-created.ipynb', 'ides-and-productivity-tools.ipynb', 'import--as-.ipynb', 'import-this.ipynb', 'importing-modules.ipynb', 'interacting-with-the-interpreter.ipynb', 'introducing-decorators.ipynb', 'introducing-the-ipython-notebook.ipynb', \"it's-not-the-snake.ipynb\", 'iterables-vs-iterators.ipynb', 'matplotlib.ipynb', 'mock-objects.ipynb', 'more-about-functions.ipynb', 'more-about-python-data-types.ipynb', 'names-to-avoid,-and-why.ipynb', 'namespaces-in-python.ipynb', 'natural-language-analysis.ipynb', 'numpy.ipynb', 'orm-principles-and-sample-code.ipynb', 'pandas.ipynb', 'pep-8-python-style.ipynb', 'pycons.ipynb', 'python-for-scientific-and-financiap-applications.ipynb', 'reading-and-writing-files.ipynb', 'regular-expressions.ipynb', 'relative-imports.ipynb', 'reloading-modules.ipynb', 'responding-to-python-operators.ipynb', 'scipy.ipynb', 'set-comprehensions.ipynb', 'simple-networking.ipynb', 'storing,-retrieving-and-handling-data.ipynb', 'struct-module---handling-binary-data.ipynb', 'structuring-packages.ipynb', 'testing-your-code.ipynb', 'the-function-api---signatures-and-specifications.ipynb', 'the-python-dbapi.ipynb', 'the-python-environment.ipynb', 'the-python-iteration-protocol.ipynb', 'the-python-software-foundation.ipynb', 'the-requests-library.ipynb', 'tuples.ipynb', 'unit-testing.ipynb', 'visual-python.ipynb', 'web-frameworks.ipynb', 'welcome-to-class.ipynb', 'what-is-unicode?.ipynb', 'writing-iterable-objects.ipynb', 'xkcd-import-antigravity.ipynb']\n"
       ]
      }
     ],
     "prompt_number": 3
    },
    {
     "cell_type": "markdown",
     "metadata": {},
     "source": [
      "The `glob` module contains just one function, also called `glob()`. This allows you to produce lists of flienames using wildcard matching just like you do in your shell scripts (supposing you write shell scripts)."
     ]
    },
    {
     "cell_type": "code",
     "collapsed": false,
     "input": [
      "tfn = \"handling-filenames.ipynb\"\n",
      "os.path.exists(tfn), os.path.isdir(tfn), os.path.isfile(tfn)"
     ],
     "language": "python",
     "metadata": {},
     "outputs": [
      {
       "metadata": {},
       "output_type": "pyout",
       "prompt_number": 4,
       "text": [
        "(True, False, True)"
       ]
      }
     ],
     "prompt_number": 4
    },
    {
     "cell_type": "markdown",
     "metadata": {},
     "source": [
      "Given a path you can find out whether the path exists, whether it's a directory and whether it's a file. in this case the chosen file does exist, is not a directory and is a file."
     ]
    },
    {
     "cell_type": "code",
     "collapsed": false,
     "input": [
      "file_path = os.path.join(\"..\", \"data\", \"templates\", \"base.ipynb\")\n",
      "file_path"
     ],
     "language": "python",
     "metadata": {},
     "outputs": [
      {
       "metadata": {},
       "output_type": "pyout",
       "prompt_number": 5,
       "text": [
        "'../data/templates/base.ipynb'"
       ]
      }
     ],
     "prompt_number": 5
    },
    {
     "cell_type": "markdown",
     "metadata": {},
     "source": [
      "The versatile `os.path.join()` function can be called with as many string arguments as you like. It joins them all together into a single path (using platform-appropriate directory separators)."
     ]
    },
    {
     "cell_type": "code",
     "collapsed": false,
     "input": [
      "full_path = os.path.abspath(file_path)\n",
      "full_path"
     ],
     "language": "python",
     "metadata": {},
     "outputs": [
      {
       "metadata": {},
       "output_type": "pyout",
       "prompt_number": 6,
       "text": [
        "'/Users/sholden/Projects/Python/intVideos/Project/data/templates/base.ipynb'"
       ]
      }
     ],
     "prompt_number": 6
    },
    {
     "cell_type": "markdown",
     "metadata": {},
     "source": [
      "If you happen to need to know exactly where in the file store a particular relative path points you can use `os.path.abspath()` to convert it to an absolute path."
     ]
    },
    {
     "cell_type": "code",
     "collapsed": false,
     "input": [
      "print(file_path)\n",
      "print(os.path.split(file_path))\n",
      "print(os.path.join(*os.path.split(file_path)))"
     ],
     "language": "python",
     "metadata": {},
     "outputs": [
      {
       "output_type": "stream",
       "stream": "stdout",
       "text": [
        "../data/templates/base.ipynb\n",
        "('../data/templates', 'base.ipynb')\n",
        "../data/templates/base.ipynb\n"
       ]
      }
     ],
     "prompt_number": 7
    },
    {
     "cell_type": "markdown",
     "metadata": {},
     "source": [
      "`os.path.split` extracts the final component, removing the separator. Joining the two components back together should give you exactly the path you started with."
     ]
    },
    {
     "cell_type": "code",
     "collapsed": false,
     "input": [
      "os.path.dirname(file_path), os.path.basename(file_path)"
     ],
     "language": "python",
     "metadata": {},
     "outputs": [
      {
       "metadata": {},
       "output_type": "pyout",
       "prompt_number": 8,
       "text": [
        "('../data/templates', 'base.ipynb')"
       ]
      }
     ],
     "prompt_number": 8
    },
    {
     "cell_type": "markdown",
     "metadata": {},
     "source": [
      "You can also call for just the left-hand or right-hand elements using `os.path.dirname()` and `os.path.basename()`."
     ]
    },
    {
     "cell_type": "code",
     "collapsed": false,
     "input": [
      "dir_path, file_name = os.path.split(full_path)\n",
      "print(\"File name, extension:\", os.path.splitext(file_name))\n",
      "print(\"File path, extension:\", os.path.splitext(full_path))"
     ],
     "language": "python",
     "metadata": {},
     "outputs": [
      {
       "output_type": "stream",
       "stream": "stdout",
       "text": [
        "File name, extension: ('base', '.ipynb')\n",
        "File path, extension: ('/Users/sholden/Projects/Python/intVideos/Project/data/templates/base', '.ipynb')\n"
       ]
      }
     ],
     "prompt_number": 9
    },
    {
     "cell_type": "markdown",
     "metadata": {},
     "source": [
      "You can use `os.path.splitext()` on either a simple file name or a path. In the latter case any directory components remain with the left-hand return value."
     ]
    },
    {
     "cell_type": "code",
     "collapsed": false,
     "input": [
      "for path in os.path.basename(full_path), \".dotfile\", \"no_extension\", \"justadot.\":\n",
      "    dir_path, file_name = os.path.split(path)\n",
      "    print(path, os.path.splitext(file_name))"
     ],
     "language": "python",
     "metadata": {},
     "outputs": [
      {
       "output_type": "stream",
       "stream": "stdout",
       "text": [
        "base.ipynb ('base', '.ipynb')\n",
        ".dotfile ('.dotfile', '')\n",
        "no_extension ('no_extension', '')\n",
        "justadot. ('justadot', '.')\n"
       ]
      }
     ],
     "prompt_number": 10
    },
    {
     "cell_type": "markdown",
     "metadata": {},
     "source": [
      "Above we demonstrate various edge cases. Observe that in all cases the input string can be reconstructed by concatenating the two components of the result."
     ]
    },
    {
     "cell_type": "code",
     "collapsed": false,
     "input": [
      "desktop_dir = os.path.expanduser(\"~/Desktop\")\n",
      "print(\"Your desktop is at\", desktop_dir)\n",
      "print(\"Root's home directory is\", os.path.expanduser(\"~root\"))"
     ],
     "language": "python",
     "metadata": {},
     "outputs": [
      {
       "output_type": "stream",
       "stream": "stdout",
       "text": [
        "Your desktop is at /Users/sholden/Desktop\n",
        "Root's home directory is /var/root\n"
       ]
      }
     ],
     "prompt_number": 11
    },
    {
     "cell_type": "markdown",
     "metadata": {},
     "source": [
      "The various file handling commands do not understand the _tilde_ (__~__) notation for home directories. You can expand these conventions yourself quite easily as a convenience to your users."
     ]
    },
    {
     "cell_type": "code",
     "collapsed": false,
     "input": [
      "pathlist = os.path.expandvars(\"$PATH\").split(\":\") # semicolon on Windows\n",
      "print(\"Your path is:\")\n",
      "for path in pathlist:\n",
      "    print(\"  \", path)"
     ],
     "language": "python",
     "metadata": {},
     "outputs": [
      {
       "output_type": "stream",
       "stream": "stdout",
       "text": [
        "Your path is:\n",
        "   /Users/sholden/.virtualenvs/intVideos/bin\n",
        "   ~/bin\n",
        "   /usr/local/bin\n",
        "   /usr/local/Cellar/Python/2.7.4/bin\n",
        "   ~/.gem/ruby/1.8/bin\n",
        "   /usr/bin\n",
        "   /bin\n",
        "   /usr/sbin\n",
        "   /sbin\n",
        "   /usr/local/bin\n"
       ]
      }
     ],
     "prompt_number": 12
    },
    {
     "cell_type": "code",
     "collapsed": false,
     "input": [
      "os.stat(full_path)"
     ],
     "language": "python",
     "metadata": {},
     "outputs": [
      {
       "metadata": {},
       "output_type": "pyout",
       "prompt_number": 13,
       "text": [
        "posix.stat_result(st_mode=33188, st_ino=12930620, st_dev=16777218, st_nlink=1, st_uid=502, st_gid=20, st_size=597, st_atime=1394054179, st_mtime=1393932373, st_ctime=1393932373)"
       ]
      }
     ],
     "prompt_number": 13
    },
    {
     "cell_type": "code",
     "collapsed": false,
     "input": [
      "import time"
     ],
     "language": "python",
     "metadata": {},
     "outputs": [],
     "prompt_number": 14
    },
    {
     "cell_type": "code",
     "collapsed": false,
     "input": [
      "def newer(file1, file2):\n",
      "    file1_modification = os.stat(file1).st_mtime\n",
      "    file2_modification = os.stat(file2).st_mtime\n",
      "    return file1_modification > file2_modification\n",
      "\n",
      "r1 = os.system(\"touch /tmp/deleteme.1\")\n",
      "time.sleep(1)\n",
      "r2 = os.system(\"touch /tmp/deleteme.2\")\n",
      "\n",
      "print(newer(\"/tmp/deleteme.1\", \"/tmp/deleteme.2\"), newer(\"/tmp/deleteme.2\", \"/tmp/deleteme.1\"))"
     ],
     "language": "python",
     "metadata": {},
     "outputs": [
      {
       "output_type": "stream",
       "stream": "stdout",
       "text": [
        "False True\n"
       ]
      }
     ],
     "prompt_number": 15
    },
    {
     "cell_type": "code",
     "collapsed": false,
     "input": [
      "dir_above = os.listdir(os.path.join(base_dir, \"..\"))\n",
      "print(dir_above)"
     ],
     "language": "python",
     "metadata": {},
     "outputs": [
      {
       "output_type": "stream",
       "stream": "stdout",
       "text": [
        "['data', 'figures', 'handling-filenames.ipynb', 'nbsource', 'notebook', 'notebooks', 'outline.txt', 'slides', 'tools']\n"
       ]
      }
     ],
     "prompt_number": 16
    },
    {
     "cell_type": "code",
     "collapsed": false,
     "input": [
      "files_dirs = os.listdir(os.path.join(base_dir, \"..\"))\n",
      "for name in files_dirs:\n",
      "    path = os.path.join(base_dir, \"..\", name)\n",
      "    if os.path.isdir(path):\n",
      "        print(name+\"/\")\n",
      "    else:\n",
      "        print(name)"
     ],
     "language": "python",
     "metadata": {},
     "outputs": [
      {
       "output_type": "stream",
       "stream": "stdout",
       "text": [
        "data/\n",
        "figures/\n",
        "handling-filenames.ipynb\n",
        "nbsource/\n",
        "notebook/\n",
        "notebooks/\n",
        "outline.txt\n",
        "slides/\n",
        "tools/\n"
       ]
      }
     ],
     "prompt_number": 17
    },
    {
     "cell_type": "markdown",
     "metadata": {},
     "source": [
      "That's got to be six minutes' worth!"
     ]
    },
    {
     "cell_type": "code",
     "collapsed": false,
     "input": [],
     "language": "python",
     "metadata": {},
     "outputs": []
    }
   ],
   "metadata": {}
  }
 ]
}
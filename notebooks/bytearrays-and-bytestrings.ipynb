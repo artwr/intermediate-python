{
 "metadata": {
  "name": ""
 },
 "nbformat": 3,
 "nbformat_minor": 0,
 "worksheets": [
  {
   "cells": [
    {
     "cell_type": "markdown",
     "metadata": {},
     "source": [
      "#### PRE-RELEASE REVIEW: O'Reilly Intermediate Python Video Series\n",
      "#### Topic: Bytearrays and Bytestrings \n",
      "Source located in `nbsource/bytearrays-and-bytestrings.ipynb`. Automatically rendered from `UNKNOWN` on 2014-03-14 at 11:26:56.228665.\n",
      "#### AUTOMATICALLY GENERATED TEST NOTEBOOK - CHANGES WILL BE LOST\n",
      "#### To TEST this Notebook<br />1. select Cell | Run All, or step through with Shift/Enter<br />2. Notebook turns pink when testing starts<br />3. It turns white when the it runs to completion.<br />4. Please check the executed notebook for clarity and correctness.<br />Please [raise an issue](https://github.com/holdenweb/intermediate-python/issues) about anything you don't understand - by all means attach a saved copy of the notebook to add explanations or questions. Also please let us know about stuff you want to see covered under any heading in the outline.\n",
      "#### Your comments on the content are also welcome, particularly when [reported as issues](https://github.com/holdenweb/intermediate-python/issues)"
     ]
    },
    {
     "cell_type": "heading",
     "level": 1,
     "metadata": {},
     "source": [
      "<img src=\"files/images/title_graphic.png\" />\n",
      "||| WORKING COPY ||| Bytearrays and Bytestrings"
     ]
    },
    {
     "cell_type": "markdown",
     "metadata": {},
     "source": [
      "Although text is better handled as Unicode we inevitably end up communicating stream of bytes. Internally Python represents all Unicode characters using the same sized object."
     ]
    },
    {
     "cell_type": "markdown",
     "metadata": {},
     "source": [
      "Depending on how your interpreter was built it might use a 16-bit or a 32-bit representation (most interpreters use UCS-2 to conserve memory, but thhis involves certain complexities). The fixed-size format makes it very easy to compute positions within a string, but would be impossibly wasteful as the medium of communication.\n",
      "\n",
      "Ultimately, then, to transmit a Unicode string it will typically be somehow _encoded_. Both ends of a communication have to agree on which encoding will be used. The sender encodes the text to produce a string of bytes which are sent across to the recipient who must then _decode_ the stream to reproduce the Unicode string that was sent.\n",
      "\n",
      "The _`bytes`_ (sometimes called _byte string_) and _`bytearray`_ types are designed to allow you to handle binary data, decoding in to Unicode and encoding it on output. When you read data from a network stream or a file opened in binary mode the calls return sequences of bytes."
     ]
    },
    {
     "cell_type": "markdown",
     "metadata": {},
     "source": [
      "When we talk about \u201copening a file\u201d in Python we generally think about reading text, though files can also be opened in binary mode. In older version of Python both modes returned sequences of bytes, and Python's primary string type was ASCII-oriented. Nowadays reading a binary file and reading a text file return two different types of object. See what happens when you read the source of this notebook in text mode. (We use this file because it must be available for you to be reading this notebook)."
     ]
    },
    {
     "cell_type": "code",
     "collapsed": false,
     "input": [
      "f = open(\"bytearrays-and-bytestrings.ipynb\", \"r\")\n",
      "bs = f.read(10)\n",
      "type(bs)"
     ],
     "language": "python",
     "metadata": {},
     "outputs": [
      {
       "metadata": {},
       "output_type": "pyout",
       "prompt_number": 94,
       "text": [
        "builtins.str"
       ]
      }
     ],
     "prompt_number": 94
    },
    {
     "cell_type": "markdown",
     "metadata": {},
     "source": [
      "So reading a text file returns a string. When you open the same file in binary mode, however, you will find that the file's read methods do indeed return a bytes object."
     ]
    },
    {
     "cell_type": "code",
     "collapsed": false,
     "input": [
      "f = open(\"bytearrays-and-bytestrings.ipynb\", \"rb\")\n",
      "bs = f.read(90)\n",
      "type(bs)"
     ],
     "language": "python",
     "metadata": {},
     "outputs": [
      {
       "metadata": {},
       "output_type": "pyout",
       "prompt_number": 37,
       "text": [
        "builtins.bytes"
       ]
      }
     ],
     "prompt_number": 37
    },
    {
     "cell_type": "markdown",
     "metadata": {},
     "source": [
      "__Bytes Literals__  \n",
      "When you want to include a bytes value in your program source you can use a _bytes literal_. These are very similar to the standard string literals such as `\"this is a string\"` and `'''this is another'''`, but the opening string quote is preceded by the letter `b`. This is why they are sometimes called byte strings. The interpreter represents these values the same way."
     ]
    },
    {
     "cell_type": "code",
     "collapsed": false,
     "input": [
      "bs"
     ],
     "language": "python",
     "metadata": {},
     "outputs": [
      {
       "metadata": {},
       "output_type": "pyout",
       "prompt_number": 38,
       "text": [
        "b'{\\n \"metadata\": {\\n  \"name\": \"\"\\n },\\n \"nbformat\": 3,\\n \"nbformat_minor\": 0,\\n \"worksheets\": [\\n '"
       ]
      }
     ],
     "prompt_number": 38
    },
    {
     "cell_type": "markdown",
     "metadata": {},
     "source": [
      "Even the escape sequences work the same way. You can see above the newline characters represented as `\"\\n\"`. Don't expect Unicode escapes to work, though. The interpreter doesn't recognize them when it's scanning a bytes literal, and treats the escape sequence as individual characters. The interpreter correctly represents the backslash in its escaped form."
     ]
    },
    {
     "cell_type": "code",
     "collapsed": false,
     "input": [
      "b'\\u20ac', len(b'\\u20ac')"
     ],
     "language": "python",
     "metadata": {},
     "outputs": [
      {
       "metadata": {},
       "output_type": "pyout",
       "prompt_number": 57,
       "text": [
        "(b'\\\\u20ac', 6)"
       ]
      }
     ],
     "prompt_number": 57
    },
    {
     "cell_type": "markdown",
     "metadata": {},
     "source": [
      "Since Python naturally represents bytes objects as a string of characters, it may surprise you to learn that indexing a byte string returns not a character but an integer!"
     ]
    },
    {
     "cell_type": "code",
     "collapsed": false,
     "input": [
      "bs[0]"
     ],
     "language": "python",
     "metadata": {},
     "outputs": [
      {
       "metadata": {},
       "output_type": "pyout",
       "prompt_number": 41,
       "text": [
        "123"
       ]
      }
     ],
     "prompt_number": 41
    },
    {
     "cell_type": "markdown",
     "metadata": {},
     "source": [
      "This is, of course, the integer representation of the first character of the file, which fortunately happens to be an ASCII character."
     ]
    },
    {
     "cell_type": "code",
     "collapsed": false,
     "input": [
      "chr(bs[0])"
     ],
     "language": "python",
     "metadata": {},
     "outputs": [
      {
       "metadata": {},
       "output_type": "pyout",
       "prompt_number": 42,
       "text": [
        "'{'"
       ]
      }
     ],
     "prompt_number": 42
    },
    {
     "cell_type": "markdown",
     "metadata": {},
     "source": [
      "Although the ASCII set stops at `chr(127)` a byte can hold 256 different values. Such byte values can be entered as escape sequences just as they can with regular strings. In this next cell we use numeric encoding of 10 (octal 12, hex 0a), and the interpreter confirms that the character is indeed a newline."
     ]
    },
    {
     "cell_type": "code",
     "collapsed": false,
     "input": [
      "b'\\012\\x0a'"
     ],
     "language": "python",
     "metadata": {},
     "outputs": [
      {
       "metadata": {},
       "output_type": "pyout",
       "prompt_number": 62,
       "text": [
        "b'\\n\\n'"
       ]
      }
     ],
     "prompt_number": 62
    },
    {
     "cell_type": "markdown",
     "metadata": {},
     "source": [
      "This is one way to enter character values higher than 127 into bytes literals. Of course, by programming you can generate values quite easily. And, while it might not be the preferred style, you can use `B\"...\"` rather than `b\"...\"`. Also notice that the `ord()` builtin returns the same type as indexing for bytestring arguments, which text strings don't do."
     ]
    },
    {
     "cell_type": "code",
     "collapsed": false,
     "input": [
      "b\"\\377\\0xfe\"+bytes(i for i in range(128, 137))"
     ],
     "language": "python",
     "metadata": {},
     "outputs": [
      {
       "metadata": {},
       "output_type": "pyout",
       "prompt_number": 71,
       "text": [
        "b'\\xff\\x00xfe\\x80\\x81\\x82\\x83\\x84\\x85\\x86\\x87\\x88'"
       ]
      }
     ],
     "prompt_number": 71
    },
    {
     "cell_type": "code",
     "collapsed": false,
     "input": [
      "ord(b\" \"), B\" \"[0], ord(\" \"), \" \"[0]"
     ],
     "language": "python",
     "metadata": {},
     "outputs": [
      {
       "metadata": {},
       "output_type": "pyout",
       "prompt_number": 75,
       "text": [
        "(32, 32, 32, ' ')"
       ]
      }
     ],
     "prompt_number": 75
    },
    {
     "cell_type": "markdown",
     "metadata": {},
     "source": [
      "The `bytes()` function (really a type, but that is irrelevant here) can be used with several different types of argument. We mention only the three most common.\n",
      "\n",
      "  * An integer argument `n` produces a string of $n$ zero bytes\n",
      "  * An iterable argument (which must yield only integer values in `range(256)`) produces a string whose successive byte values are the successive integers\n",
      "  * A string argument will produce a sequence of bytes, each of which\n",
      "    has the same `ord()` value as the corresponding character in the\n",
      "    argument."
     ]
    },
    {
     "cell_type": "code",
     "collapsed": false,
     "input": [
      "print(bytes(5))\n",
      "print(bytes(i for i in range(ord('A'), ord('A')+26)))\n",
      "print(bytes('Please pay \u20ac9.99 at exit'))"
     ],
     "language": "python",
     "metadata": {},
     "outputs": [
      {
       "ename": "TypeError",
       "evalue": "string argument without an encoding",
       "output_type": "pyerr",
       "traceback": [
        "\u001b[0;31m---------------------------------------------------------------------------\u001b[0m\n\u001b[0;31mTypeError\u001b[0m                                 Traceback (most recent call last)",
        "\u001b[0;32m<ipython-input-86-d95c82e5230e>\u001b[0m in \u001b[0;36m<module>\u001b[0;34m()\u001b[0m\n\u001b[1;32m      1\u001b[0m \u001b[0mprint\u001b[0m\u001b[0;34m(\u001b[0m\u001b[0mbytes\u001b[0m\u001b[0;34m(\u001b[0m\u001b[0;36m5\u001b[0m\u001b[0;34m)\u001b[0m\u001b[0;34m)\u001b[0m\u001b[0;34m\u001b[0m\u001b[0m\n\u001b[1;32m      2\u001b[0m \u001b[0mprint\u001b[0m\u001b[0;34m(\u001b[0m\u001b[0mbytes\u001b[0m\u001b[0;34m(\u001b[0m\u001b[0mi\u001b[0m \u001b[0;32mfor\u001b[0m \u001b[0mi\u001b[0m \u001b[0;32min\u001b[0m \u001b[0mrange\u001b[0m\u001b[0;34m(\u001b[0m\u001b[0mord\u001b[0m\u001b[0;34m(\u001b[0m\u001b[0;34m'A'\u001b[0m\u001b[0;34m)\u001b[0m\u001b[0;34m,\u001b[0m \u001b[0mord\u001b[0m\u001b[0;34m(\u001b[0m\u001b[0;34m'A'\u001b[0m\u001b[0;34m)\u001b[0m\u001b[0;34m+\u001b[0m\u001b[0;36m26\u001b[0m\u001b[0;34m)\u001b[0m\u001b[0;34m)\u001b[0m\u001b[0;34m)\u001b[0m\u001b[0;34m\u001b[0m\u001b[0m\n\u001b[0;32m----> 3\u001b[0;31m \u001b[0mprint\u001b[0m\u001b[0;34m(\u001b[0m\u001b[0mbytes\u001b[0m\u001b[0;34m(\u001b[0m\u001b[0;34m'Please pay \u20ac9.99 at exit'\u001b[0m\u001b[0;34m)\u001b[0m\u001b[0;34m)\u001b[0m\u001b[0;34m\u001b[0m\u001b[0m\n\u001b[0m",
        "\u001b[0;31mTypeError\u001b[0m: string argument without an encoding"
       ]
      },
      {
       "output_type": "stream",
       "stream": "stdout",
       "text": [
        "b'\\x00\\x00\\x00\\x00\\x00'\n",
        "b'ABCDEFGHIJKLMNOPQRSTUVWXYZ'\n"
       ]
      }
     ],
     "prompt_number": 86
    },
    {
     "cell_type": "markdown",
     "metadata": {},
     "source": [
      "So why does the third (string) argument cause an exception? Because it is a Unicode string, so there can be no guarantee that each character can be represented as a byte. When called with a string argument you have to provide a second argument to tell `bytes()` _how to encode the string_. You do so by naming an encoding."
     ]
    },
    {
     "cell_type": "code",
     "collapsed": false,
     "input": [
      "print(bytes('Please pay \u20ac9.99 at exit', \"UTF-8\"))"
     ],
     "language": "python",
     "metadata": {},
     "outputs": [
      {
       "output_type": "stream",
       "stream": "stdout",
       "text": [
        "b'Please pay \\xe2\\x82\\xac9.99 at exit'\n"
       ]
      }
     ],
     "prompt_number": 89
    },
    {
     "cell_type": "code",
     "collapsed": false,
     "input": [
      "print(bytes('Please pay \u20ac9.99 at exit', \"UTF-16\"))"
     ],
     "language": "python",
     "metadata": {},
     "outputs": [
      {
       "output_type": "stream",
       "stream": "stdout",
       "text": [
        "b'\\xff\\xfeP\\x00l\\x00e\\x00a\\x00s\\x00e\\x00 \\x00p\\x00a\\x00y\\x00 \\x00\\xac 9\\x00.\\x009\\x009\\x00 \\x00a\\x00t\\x00 \\x00e\\x00x\\x00i\\x00t\\x00'\n"
       ]
      }
     ],
     "prompt_number": 90
    },
    {
     "cell_type": "markdown",
     "metadata": {},
     "source": [
      "__Puzzler__  \n",
      "So, here's a question: does the source for this notebook include any non-ASCII characters (bytes whose values are \u2265 128)? It isn't too difficult to answer that question for a short file (and Notebooks shouldn't be anywhere NEAR gigabytes long: you have been warned!) if you know about the built-in `any()` function, which returns True if any member of the sequence argument is True (without evaluating the rest).\n",
      "\n",
      "The following expression shows there are no non-ASCII characters in the file."
     ]
    },
    {
     "cell_type": "code",
     "collapsed": false,
     "input": [
      "any((c>127) for c in open(\n",
      "                    \"bytearrays-and-bytestrings.ipynb\", \"rb\")\n",
      "                    .read()\n",
      "                    )"
     ],
     "language": "python",
     "metadata": {},
     "outputs": [
      {
       "metadata": {},
       "output_type": "pyout",
       "prompt_number": 91,
       "text": [
        "False"
       ]
      }
     ],
     "prompt_number": 91
    },
    {
     "cell_type": "markdown",
     "metadata": {},
     "source": [
      "Trying the same operation using text mode raises an exception because it's illegal to compare characters and numbers."
     ]
    },
    {
     "cell_type": "code",
     "collapsed": false,
     "input": [
      "any((c>127) for c in open(\n",
      "                    \"bytearrays-and-bytestrings.ipynb\", \"r\"\n",
      "                    ).read())"
     ],
     "language": "python",
     "metadata": {},
     "outputs": [
      {
       "ename": "TypeError",
       "evalue": "unorderable types: str() > int()",
       "output_type": "pyerr",
       "traceback": [
        "\u001b[0;31m---------------------------------------------------------------------------\u001b[0m\n\u001b[0;31mTypeError\u001b[0m                                 Traceback (most recent call last)",
        "\u001b[0;32m<ipython-input-93-5b5c8887076c>\u001b[0m in \u001b[0;36m<module>\u001b[0;34m()\u001b[0m\n\u001b[1;32m      1\u001b[0m any((c>127) for c in open(\n\u001b[0;32m----> 2\u001b[0;31m                     \u001b[0;34m\"bytearrays-and-bytestrings.ipynb\"\u001b[0m\u001b[0;34m,\u001b[0m \u001b[0;34m\"r\"\u001b[0m\u001b[0;34m\u001b[0m\u001b[0m\n\u001b[0m\u001b[1;32m      3\u001b[0m                     ).read())\n",
        "\u001b[0;32m<ipython-input-93-5b5c8887076c>\u001b[0m in \u001b[0;36m<genexpr>\u001b[0;34m(.0)\u001b[0m\n\u001b[0;32m----> 1\u001b[0;31m any((c>127) for c in open(\n\u001b[0m\u001b[1;32m      2\u001b[0m                     \u001b[0;34m\"bytearrays-and-bytestrings.ipynb\"\u001b[0m\u001b[0;34m,\u001b[0m \u001b[0;34m\"r\"\u001b[0m\u001b[0;34m\u001b[0m\u001b[0m\n\u001b[1;32m      3\u001b[0m                     ).read())\n",
        "\u001b[0;31mTypeError\u001b[0m: unorderable types: str() > int()"
       ]
      }
     ],
     "prompt_number": 93
    },
    {
     "cell_type": "code",
     "collapsed": false,
     "input": [
      "fl = open(\"bytearrays-and-bytestrings.ipynb\", \"rb\")"
     ],
     "language": "python",
     "metadata": {},
     "outputs": [],
     "prompt_number": 48
    },
    {
     "cell_type": "code",
     "collapsed": false,
     "input": [],
     "language": "python",
     "metadata": {},
     "outputs": [
      {
       "metadata": {},
       "output_type": "pyout",
       "prompt_number": 59,
       "text": [
        "b'\"metadata\": {},\\n     \"source\": [\\n      \"Although text is better handled as Unicode we inevitably end'"
       ]
      }
     ],
     "prompt_number": 59
    },
    {
     "cell_type": "code",
     "collapsed": false,
     "input": [
      "type(\"\")"
     ],
     "language": "python",
     "metadata": {},
     "outputs": [
      {
       "metadata": {},
       "output_type": "pyout",
       "prompt_number": 95,
       "text": [
        "builtins.str"
       ]
      }
     ],
     "prompt_number": 95
    },
    {
     "cell_type": "code",
     "collapsed": false,
     "input": [],
     "language": "python",
     "metadata": {},
     "outputs": []
    }
   ],
   "metadata": {}
  }
 ]
}
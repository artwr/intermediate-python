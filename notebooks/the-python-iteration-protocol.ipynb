{
 "metadata": {
  "name": ""
 },
 "nbformat": 3,
 "nbformat_minor": 0,
 "worksheets": [
  {
   "cells": [
    {
     "cell_type": "markdown",
     "metadata": {},
     "source": [
      "#### PRE-RELEASE REVIEW: O'Reilly Intermediate Python Video Series\n",
      "#### Topic: The Python Iteration Protocol \n",
      "Source located in `nbsource/the-python-iteration-protocol.ipynb`. Automatically rendered from `UNKNOWN` on 2014-03-21 at 00:38:27.260860.\n",
      "#### AUTOMATICALLY GENERATED TEST NOTEBOOK - CHANGES WILL BE LOST\n",
      "#### To TEST this Notebook<br />1. select Cell | Run All, or step through with Shift/Enter<br />2. Notebook turns pink when testing starts<br />3. It turns white when the it runs to completion.<br />4. Please check the executed notebook for clarity and correctness.<br />Please [raise an issue](https://github.com/holdenweb/intermediate-python/issues) about anything you don't understand - by all means attach a saved copy of the notebook to add explanations or questions. Also please let us know about stuff you want to see covered under any heading in the outline.\n",
      "#### Your comments on the content are also welcome, particularly when [reported as issues](https://github.com/holdenweb/intermediate-python/issues)"
     ]
    },
    {
     "cell_type": "heading",
     "level": 1,
     "metadata": {},
     "source": [
      "<img src=\"https://dl.dropboxusercontent.com/u/6117375/intermediate-notebooks/title_graphic.png\" />\n",
      "||| WORKING COPY ||| The Python Iteration Protocol "
     ]
    },
    {
     "cell_type": "heading",
     "level": 3,
     "metadata": {},
     "source": [
      "Iteration Protocols"
     ]
    },
    {
     "cell_type": "markdown",
     "metadata": {},
     "source": [
      "The interpreter used to use a very simple model for iteration, which remains available today for backward compatibity reasons (though Python objects themselves no longer use it. The approximate equivalent of an old-style loop like\n",
      "\n",
      "    for item in items:\n",
      "        do_something_with(item)\n",
      "\n",
      "would be\n",
      "\n",
      "    intern = 0\n",
      "    while True:\n",
      "        try:\n",
      "            item = items.__getitem__(intern)\n",
      "        except IndexError:\n",
      "            break\n",
      "        do_something_with(item)\n",
      "        intern += 1    \n",
      "\n",
      "We normally think of iterating over the contents of a container such as a list or a string. In fact any object that responds correctly to an iteration protocol, even this now-outmoded style, can be iterated overt. Below you can see just such a class, whose items can be iterated over.\n",
      "\n",
      "A `SequenceOf(N, obj)` object acts under iteration just like a tuple of `N` copies of the value `obj`."
     ]
    },
    {
     "cell_type": "code",
     "collapsed": false,
     "input": [
      "class SequenceOf(object):\n",
      "    def __init__(self, N, obj):\n",
      "        self.obj = obj\n",
      "        self.N = N\n",
      "    def __getitem__(self, i):\n",
      "        if i >= self.N:\n",
      "            raise IndexError(\"Index exceeds defined length %d\" % seSequenceOflf.N)\n",
      "        return self.obj\n",
      "\n",
      "five_stars = SequenceOf(5, \"*\")\n",
      "for c in five_stars:\n",
      "    print(c)\n",
      "\n",
      "three_ints = SequenceOf(3, 120)\n",
      "for c in three_ints:\n",
      "    print(c)"
     ],
     "language": "python",
     "metadata": {},
     "outputs": []
    },
    {
     "cell_type": "markdown",
     "metadata": {},
     "source": [
      "The interpreter calls its `__getitem__()` method with successively higher integers until the call raises a `StopIteration` exception. This is interpreted internally (_i.e._ the exception is trapped and handled, not appearing to the user) as the end of the sequence and the loop terminates normally.\n",
      "\n",
      "You can see that the same objects respond to standard indexing methods pretty much in the same way as a list would (though because the implementation is in Python the traceback is a little more forthcoming than usual about what's going on. Of course it isn't very interesting, because any valid index returns the same object."
     ]
    },
    {
     "cell_type": "code",
     "collapsed": false,
     "input": [
      "three_ints[1]"
     ],
     "language": "python",
     "metadata": {},
     "outputs": []
    },
    {
     "cell_type": "code",
     "collapsed": false,
     "input": [
      "# XXX Turn into comment\n",
      "three_ints[3]"
     ],
     "language": "python",
     "metadata": {},
     "outputs": []
    },
    {
     "cell_type": "markdown",
     "metadata": {},
     "source": [
      "This older protocol does not extend to non-sequence containers such as the dict and the set, whose elements are not ordered. To a dict, numerical subscripts are just keys like any other rather than implying a position within a sequence. The set has no items to get, and therefore has no `__getitem__()` method at all!"
     ]
    },
    {
     "cell_type": "code",
     "collapsed": false,
     "input": [
      "\"__getitem__\" in dir(set())\n"
     ],
     "language": "python",
     "metadata": {},
     "outputs": []
    },
    {
     "cell_type": "markdown",
     "metadata": {},
     "source": [
      "If the object `iterable` _does_ have an `__iter__()` method a loop like\n",
      "\n",
      "    for item in iterable:\n",
      "        do_something_with(item)\n",
      "\n",
      "is implemented inside the interpreter in approximately the following way.\n",
      "\n",
      "    it = iterable.__iter__()\n",
      "    while True:\n",
      "        try:\n",
      "            val = it.__next__()\n",
      "        except StopIteration:\n",
      "            break\n",
      "        do_something_with(val)"
     ]
    },
    {
     "cell_type": "markdown",
     "metadata": {},
     "source": [
      "With an `__iter__()` method present, the interpreter calls it to return some object which is expected to have a `__next__()` method. That method is then repeatedly calleds \n",
      "\n",
      "Again you observe that the exception (in the newer protocol a `StopIteration` exception must be raised to terminate iteration) never reaches the user's code, being swallowed silently as a part of the operation.\n",
      "\n",
      "Again, once you understand how the interpreter interacts with iterable items you can implement your own. Here's a class whose instances operate similarly to `SequenceOf` objects."
     ]
    },
    {
     "cell_type": "code",
     "collapsed": false,
     "input": [
      "class SequenceOf:\n",
      "    def __init__(self, N, obj):\n",
      "        self.N = N\n",
      "        self.obj = obj\n",
      "        self.count = 0\n",
      "    def __iter__(self):\n",
      "        return self\n",
      "    def __next__(self):\n",
      "        self.count += 1\n",
      "        if self.count > self.N:\n",
      "            raise StopIteration()\n",
      "        return self.obj        "
     ],
     "language": "python",
     "metadata": {},
     "outputs": []
    },
    {
     "cell_type": "markdown",
     "metadata": {},
     "source": [
      "This object conforms to the iterator protocol because its `__iter__()` method returns an object with a `__iter__()` and a `__next__()` method. There are some implications to the fact that it returns itself htat we will look into shortly, but the fact remains that a `Sequence2` object conforms to the iterator protocol."
     ]
    },
    {
     "cell_type": "code",
     "collapsed": false,
     "input": [
      "s1 = SequenceOf(5, \"little strings\")\n",
      "for thing in s1:\n",
      "    print(thing)"
     ],
     "language": "python",
     "metadata": {},
     "outputs": []
    },
    {
     "cell_type": "markdown",
     "metadata": {},
     "source": [
      "So that summarizes how the iteration protocol works and how you can write iterators.\n",
      "\n",
      "There's a little more to cover, but you've got the basics."
     ]
    },
    {
     "cell_type": "code",
     "collapsed": false,
     "input": [
      "from unittest.mock import MagicMock\n",
      "m = MagicMock()\n",
      "for x in m:\n",
      "    print(m, end=\" \")"
     ],
     "language": "python",
     "metadata": {},
     "outputs": []
    },
    {
     "cell_type": "code",
     "collapsed": false,
     "input": [
      "m.mock_calls # very different from a standard interpreter - do this one on Python Anywhere? (or not at all ...)"
     ],
     "language": "python",
     "metadata": {},
     "outputs": []
    },
    {
     "cell_type": "code",
     "collapsed": false,
     "input": [],
     "language": "python",
     "metadata": {},
     "outputs": []
    }
   ],
   "metadata": {}
  }
 ]
}